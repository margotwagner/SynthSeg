{
 "cells": [
  {
   "cell_type": "code",
   "execution_count": 1,
   "id": "c095f49c",
   "metadata": {},
   "outputs": [],
   "source": [
    "from src.SynthSeg import SynthSeg\n",
    "from src.Labels import Labels\n",
    "from src.ABCD import ABCD\n",
    "from src.StatisticalAnalysis import StatisticalAnalysis\n",
    "import pandas as pd"
   ]
  },
  {
   "attachments": {},
   "cell_type": "markdown",
   "id": "f8251f7d",
   "metadata": {},
   "source": [
    "TODO: \n",
    "- plot volumes against each other with linear regression\n",
    "- make  "
   ]
  },
  {
   "attachments": {},
   "cell_type": "markdown",
   "id": "b5800c82",
   "metadata": {},
   "source": [
    "#### Labels"
   ]
  },
  {
   "cell_type": "code",
   "execution_count": 2,
   "id": "62493cd8",
   "metadata": {},
   "outputs": [],
   "source": [
    "labels = Labels().df"
   ]
  },
  {
   "attachments": {},
   "cell_type": "markdown",
   "id": "7b04b454",
   "metadata": {},
   "source": [
    "#### Full Datasets"
   ]
  },
  {
   "attachments": {},
   "cell_type": "markdown",
   "id": "e4a6a233",
   "metadata": {},
   "source": [
    "SynthSeg (full)"
   ]
  },
  {
   "cell_type": "code",
   "execution_count": 3,
   "id": "106dbfe0",
   "metadata": {},
   "outputs": [
    {
     "data": {
      "text/plain": [
       "(11403, 101)"
      ]
     },
     "execution_count": 3,
     "metadata": {},
     "output_type": "execute_result"
    }
   ],
   "source": [
    "synthseg = SynthSeg(\n",
    "    run_qc=True, \n",
    "    run_qc_min_score=0.65,\n",
    "    run_qc_max_failed_regions=1\n",
    "    )\n",
    "\n",
    "synthseg.df.shape"
   ]
  },
  {
   "cell_type": "code",
   "execution_count": 4,
   "id": "6b5f689c",
   "metadata": {},
   "outputs": [
    {
     "data": {
      "text/plain": [
       "(9307, 101)"
      ]
     },
     "execution_count": 4,
     "metadata": {},
     "output_type": "execute_result"
    }
   ],
   "source": [
    "synthseg.qc_df.shape"
   ]
  },
  {
   "attachments": {},
   "cell_type": "markdown",
   "id": "14e7da64",
   "metadata": {},
   "source": [
    "ABCD (full) + QC"
   ]
  },
  {
   "cell_type": "code",
   "execution_count": 5,
   "id": "99aeda1c",
   "metadata": {},
   "outputs": [
    {
     "data": {
      "text/plain": [
       "(11402, 101)"
      ]
     },
     "execution_count": 5,
     "metadata": {},
     "output_type": "execute_result"
    }
   ],
   "source": [
    "abcd = ABCD(with_qc=True)\n",
    "abcd.df = abcd.match_synthseg_regions(synthseg.df)\n",
    "\n",
    "abcd.df.shape"
   ]
  },
  {
   "cell_type": "code",
   "execution_count": 6,
   "id": "387e5453",
   "metadata": {},
   "outputs": [
    {
     "data": {
      "text/plain": [
       "(11402, 101)"
      ]
     },
     "execution_count": 6,
     "metadata": {},
     "output_type": "execute_result"
    }
   ],
   "source": [
    "# Remove extra synthseg subject\n",
    "#TODO: implement as \"match_abcd\" to SynthSeg.py\n",
    "to_drop = set(synthseg.df.index) - set(abcd.df.index)\n",
    "synthseg.df = synthseg.df.drop(to_drop, axis=0)\n",
    "synthseg.qc_df = synthseg.qc_df.drop(to_drop, axis=0)\n",
    "synthseg.df.shape"
   ]
  },
  {
   "cell_type": "code",
   "execution_count": 7,
   "id": "e92a43e5",
   "metadata": {},
   "outputs": [
    {
     "data": {
      "text/plain": [
       "True"
      ]
     },
     "execution_count": 7,
     "metadata": {},
     "output_type": "execute_result"
    }
   ],
   "source": [
    "synthseg.df.shape == abcd.df.shape"
   ]
  },
  {
   "attachments": {},
   "cell_type": "markdown",
   "id": "4c75f8b5",
   "metadata": {},
   "source": [
    "#### Subset Datasets"
   ]
  },
  {
   "attachments": {},
   "cell_type": "markdown",
   "id": "0765b245",
   "metadata": {},
   "source": [
    "SynthSeg (subset)"
   ]
  },
  {
   "cell_type": "code",
   "execution_count": 8,
   "id": "23eb5636",
   "metadata": {},
   "outputs": [
    {
     "data": {
      "text/plain": [
       "(1782, 101)"
      ]
     },
     "execution_count": 8,
     "metadata": {},
     "output_type": "execute_result"
    }
   ],
   "source": [
    "synthseg_subset = SynthSeg(\n",
    "    subjects=labels.index,\n",
    "    run_qc=True,\n",
    "    run_qc_min_score=0.65,\n",
    "    run_qc_max_failed_regions=1\n",
    "    )\n",
    "\n",
    "synthseg_subset.df.shape"
   ]
  },
  {
   "cell_type": "code",
   "execution_count": 9,
   "id": "ae9ebe17",
   "metadata": {},
   "outputs": [
    {
     "data": {
      "text/plain": [
       "(1430, 101)"
      ]
     },
     "execution_count": 9,
     "metadata": {},
     "output_type": "execute_result"
    }
   ],
   "source": [
    "synthseg_subset.qc_df.shape"
   ]
  },
  {
   "attachments": {},
   "cell_type": "markdown",
   "id": "ffba2467",
   "metadata": {},
   "source": [
    "ABCD (subset) + QC"
   ]
  },
  {
   "cell_type": "code",
   "execution_count": 10,
   "id": "d18c293b",
   "metadata": {},
   "outputs": [
    {
     "data": {
      "text/plain": [
       "(1782, 101)"
      ]
     },
     "execution_count": 10,
     "metadata": {},
     "output_type": "execute_result"
    }
   ],
   "source": [
    "abcd_subset = ABCD(synthseg_subset.df.index)\n",
    "abcd_subset.df = abcd_subset.match_synthseg_regions(synthseg.df)\n",
    "abcd_subset.df.shape"
   ]
  },
  {
   "attachments": {},
   "cell_type": "markdown",
   "id": "9fa16b28",
   "metadata": {},
   "source": [
    "# Scanners"
   ]
  },
  {
   "attachments": {},
   "cell_type": "markdown",
   "id": "3972a6d6",
   "metadata": {},
   "source": [
    "### Function"
   ]
  },
  {
   "cell_type": "code",
   "execution_count": 11,
   "id": "60fec810",
   "metadata": {},
   "outputs": [],
   "source": [
    "from itertools import combinations\n",
    "#TODO: make into module\n",
    "def run_manufacturer_analysis(df, scanners, manufacturers, results_df, dataset_name):\n",
    "    for c in combinations(manufacturers, 2):\n",
    "        analysis = StatisticalAnalysis(\n",
    "            df[df.index.isin(scanners[scanners == c[0]].index)],\n",
    "            df[df.index.isin(scanners[scanners == c[1]].index)],\n",
    "            ind=True,\n",
    "        )\n",
    "        sig, _ = analysis.compare()\n",
    "\n",
    "        entry = {\n",
    "            \"dataset\": dataset_name,\n",
    "            \"manufacturers\": c,\n",
    "            \"n_sig_regions\": len(sig),\n",
    "        }\n",
    "        \n",
    "        results_df = pd.concat(\n",
    "                [results_df, pd.DataFrame([entry])],\n",
    "                axis=0,\n",
    "                ignore_index=True,\n",
    "            )\n",
    "        \n",
    "    return results_df"
   ]
  },
  {
   "attachments": {},
   "cell_type": "markdown",
   "id": "bf0e6e81",
   "metadata": {},
   "source": [
    "### Initialize experiments"
   ]
  },
  {
   "cell_type": "code",
   "execution_count": 12,
   "id": "42e27d58",
   "metadata": {},
   "outputs": [],
   "source": [
    "manufacturers = abcd.mri_info_df[\"manufacturer\"].unique()\n",
    "scanners = abcd.mri_info_df[\"manufacturer\"]\n",
    "scanners_subset = abcd_subset.mri_info_df[\"manufacturer\"]\n",
    "\n",
    "experiments = pd.DataFrame(\n",
    "    {\n",
    "        \"dataset\": pd.Series(dtype=\"str\"),\n",
    "        \"manufacturers\": pd.Series(dtype=\"str\"),\n",
    "        \"n_sig_regions\": pd.Series(dtype=\"int\"),\n",
    "    }\n",
    ")"
   ]
  },
  {
   "attachments": {},
   "cell_type": "markdown",
   "id": "de247895",
   "metadata": {},
   "source": [
    "## Full Dataset"
   ]
  },
  {
   "attachments": {},
   "cell_type": "markdown",
   "id": "ac95cebd",
   "metadata": {},
   "source": [
    "### ABCD Full"
   ]
  },
  {
   "cell_type": "code",
   "execution_count": 13,
   "id": "6c10d398",
   "metadata": {},
   "outputs": [],
   "source": [
    "experiments = run_manufacturer_analysis(\n",
    "    df=abcd.df, \n",
    "    scanners=scanners, \n",
    "    manufacturers=manufacturers,\n",
    "    results_df=experiments, \n",
    "    dataset_name=\"abcd\"\n",
    "    )"
   ]
  },
  {
   "cell_type": "code",
   "execution_count": 14,
   "id": "f3c1043d",
   "metadata": {},
   "outputs": [
    {
     "data": {
      "text/html": [
       "<div>\n",
       "<style scoped>\n",
       "    .dataframe tbody tr th:only-of-type {\n",
       "        vertical-align: middle;\n",
       "    }\n",
       "\n",
       "    .dataframe tbody tr th {\n",
       "        vertical-align: top;\n",
       "    }\n",
       "\n",
       "    .dataframe thead th {\n",
       "        text-align: right;\n",
       "    }\n",
       "</style>\n",
       "<table border=\"1\" class=\"dataframe\">\n",
       "  <thead>\n",
       "    <tr style=\"text-align: right;\">\n",
       "      <th></th>\n",
       "      <th>dataset</th>\n",
       "      <th>manufacturers</th>\n",
       "      <th>n_sig_regions</th>\n",
       "    </tr>\n",
       "  </thead>\n",
       "  <tbody>\n",
       "    <tr>\n",
       "      <th>0</th>\n",
       "      <td>abcd</td>\n",
       "      <td>(Siemens, GE)</td>\n",
       "      <td>77</td>\n",
       "    </tr>\n",
       "    <tr>\n",
       "      <th>1</th>\n",
       "      <td>abcd</td>\n",
       "      <td>(Siemens, Philips)</td>\n",
       "      <td>71</td>\n",
       "    </tr>\n",
       "    <tr>\n",
       "      <th>2</th>\n",
       "      <td>abcd</td>\n",
       "      <td>(GE, Philips)</td>\n",
       "      <td>79</td>\n",
       "    </tr>\n",
       "  </tbody>\n",
       "</table>\n",
       "</div>"
      ],
      "text/plain": [
       "  dataset       manufacturers  n_sig_regions\n",
       "0    abcd       (Siemens, GE)             77\n",
       "1    abcd  (Siemens, Philips)             71\n",
       "2    abcd       (GE, Philips)             79"
      ]
     },
     "execution_count": 14,
     "metadata": {},
     "output_type": "execute_result"
    }
   ],
   "source": [
    "experiments"
   ]
  },
  {
   "attachments": {},
   "cell_type": "markdown",
   "id": "80a66337",
   "metadata": {},
   "source": [
    "### SynthSeg Full"
   ]
  },
  {
   "cell_type": "code",
   "execution_count": 15,
   "id": "1c7c62ba",
   "metadata": {},
   "outputs": [],
   "source": [
    "experiments = run_manufacturer_analysis(\n",
    "    df=synthseg.df, \n",
    "    scanners=scanners, \n",
    "    manufacturers=manufacturers,\n",
    "    results_df=experiments, \n",
    "    dataset_name=\"synthseg\"\n",
    "    )"
   ]
  },
  {
   "cell_type": "code",
   "execution_count": 16,
   "id": "1b5fe1d0",
   "metadata": {},
   "outputs": [
    {
     "data": {
      "text/html": [
       "<div>\n",
       "<style scoped>\n",
       "    .dataframe tbody tr th:only-of-type {\n",
       "        vertical-align: middle;\n",
       "    }\n",
       "\n",
       "    .dataframe tbody tr th {\n",
       "        vertical-align: top;\n",
       "    }\n",
       "\n",
       "    .dataframe thead th {\n",
       "        text-align: right;\n",
       "    }\n",
       "</style>\n",
       "<table border=\"1\" class=\"dataframe\">\n",
       "  <thead>\n",
       "    <tr style=\"text-align: right;\">\n",
       "      <th></th>\n",
       "      <th>dataset</th>\n",
       "      <th>manufacturers</th>\n",
       "      <th>n_sig_regions</th>\n",
       "    </tr>\n",
       "  </thead>\n",
       "  <tbody>\n",
       "    <tr>\n",
       "      <th>0</th>\n",
       "      <td>abcd</td>\n",
       "      <td>(Siemens, GE)</td>\n",
       "      <td>77</td>\n",
       "    </tr>\n",
       "    <tr>\n",
       "      <th>1</th>\n",
       "      <td>abcd</td>\n",
       "      <td>(Siemens, Philips)</td>\n",
       "      <td>71</td>\n",
       "    </tr>\n",
       "    <tr>\n",
       "      <th>2</th>\n",
       "      <td>abcd</td>\n",
       "      <td>(GE, Philips)</td>\n",
       "      <td>79</td>\n",
       "    </tr>\n",
       "    <tr>\n",
       "      <th>3</th>\n",
       "      <td>synthseg</td>\n",
       "      <td>(Siemens, GE)</td>\n",
       "      <td>63</td>\n",
       "    </tr>\n",
       "    <tr>\n",
       "      <th>4</th>\n",
       "      <td>synthseg</td>\n",
       "      <td>(Siemens, Philips)</td>\n",
       "      <td>69</td>\n",
       "    </tr>\n",
       "    <tr>\n",
       "      <th>5</th>\n",
       "      <td>synthseg</td>\n",
       "      <td>(GE, Philips)</td>\n",
       "      <td>39</td>\n",
       "    </tr>\n",
       "  </tbody>\n",
       "</table>\n",
       "</div>"
      ],
      "text/plain": [
       "    dataset       manufacturers  n_sig_regions\n",
       "0      abcd       (Siemens, GE)             77\n",
       "1      abcd  (Siemens, Philips)             71\n",
       "2      abcd       (GE, Philips)             79\n",
       "3  synthseg       (Siemens, GE)             63\n",
       "4  synthseg  (Siemens, Philips)             69\n",
       "5  synthseg       (GE, Philips)             39"
      ]
     },
     "execution_count": 16,
     "metadata": {},
     "output_type": "execute_result"
    }
   ],
   "source": [
    "experiments"
   ]
  },
  {
   "attachments": {},
   "cell_type": "markdown",
   "id": "cae3a19d",
   "metadata": {},
   "source": [
    "### SynthSeg Full with QC"
   ]
  },
  {
   "cell_type": "code",
   "execution_count": 17,
   "id": "e2b7236e",
   "metadata": {},
   "outputs": [],
   "source": [
    "qc_scanners = scanners[scanners.index.isin(synthseg.qc_df.index)]\n",
    "experiments = run_manufacturer_analysis(\n",
    "    df=synthseg.qc_df, \n",
    "    scanners=qc_scanners, \n",
    "    manufacturers=manufacturers,\n",
    "    results_df=experiments, \n",
    "    dataset_name=\"synthseg-qc\"\n",
    "    )"
   ]
  },
  {
   "cell_type": "code",
   "execution_count": 18,
   "id": "10578691",
   "metadata": {},
   "outputs": [
    {
     "data": {
      "text/html": [
       "<div>\n",
       "<style scoped>\n",
       "    .dataframe tbody tr th:only-of-type {\n",
       "        vertical-align: middle;\n",
       "    }\n",
       "\n",
       "    .dataframe tbody tr th {\n",
       "        vertical-align: top;\n",
       "    }\n",
       "\n",
       "    .dataframe thead th {\n",
       "        text-align: right;\n",
       "    }\n",
       "</style>\n",
       "<table border=\"1\" class=\"dataframe\">\n",
       "  <thead>\n",
       "    <tr style=\"text-align: right;\">\n",
       "      <th></th>\n",
       "      <th>dataset</th>\n",
       "      <th>manufacturers</th>\n",
       "      <th>n_sig_regions</th>\n",
       "    </tr>\n",
       "  </thead>\n",
       "  <tbody>\n",
       "    <tr>\n",
       "      <th>0</th>\n",
       "      <td>abcd</td>\n",
       "      <td>(Siemens, GE)</td>\n",
       "      <td>77</td>\n",
       "    </tr>\n",
       "    <tr>\n",
       "      <th>1</th>\n",
       "      <td>abcd</td>\n",
       "      <td>(Siemens, Philips)</td>\n",
       "      <td>71</td>\n",
       "    </tr>\n",
       "    <tr>\n",
       "      <th>2</th>\n",
       "      <td>abcd</td>\n",
       "      <td>(GE, Philips)</td>\n",
       "      <td>79</td>\n",
       "    </tr>\n",
       "    <tr>\n",
       "      <th>3</th>\n",
       "      <td>synthseg</td>\n",
       "      <td>(Siemens, GE)</td>\n",
       "      <td>63</td>\n",
       "    </tr>\n",
       "    <tr>\n",
       "      <th>4</th>\n",
       "      <td>synthseg</td>\n",
       "      <td>(Siemens, Philips)</td>\n",
       "      <td>69</td>\n",
       "    </tr>\n",
       "    <tr>\n",
       "      <th>5</th>\n",
       "      <td>synthseg</td>\n",
       "      <td>(GE, Philips)</td>\n",
       "      <td>39</td>\n",
       "    </tr>\n",
       "    <tr>\n",
       "      <th>6</th>\n",
       "      <td>synthseg-qc</td>\n",
       "      <td>(Siemens, GE)</td>\n",
       "      <td>64</td>\n",
       "    </tr>\n",
       "    <tr>\n",
       "      <th>7</th>\n",
       "      <td>synthseg-qc</td>\n",
       "      <td>(Siemens, Philips)</td>\n",
       "      <td>60</td>\n",
       "    </tr>\n",
       "    <tr>\n",
       "      <th>8</th>\n",
       "      <td>synthseg-qc</td>\n",
       "      <td>(GE, Philips)</td>\n",
       "      <td>41</td>\n",
       "    </tr>\n",
       "  </tbody>\n",
       "</table>\n",
       "</div>"
      ],
      "text/plain": [
       "       dataset       manufacturers  n_sig_regions\n",
       "0         abcd       (Siemens, GE)             77\n",
       "1         abcd  (Siemens, Philips)             71\n",
       "2         abcd       (GE, Philips)             79\n",
       "3     synthseg       (Siemens, GE)             63\n",
       "4     synthseg  (Siemens, Philips)             69\n",
       "5     synthseg       (GE, Philips)             39\n",
       "6  synthseg-qc       (Siemens, GE)             64\n",
       "7  synthseg-qc  (Siemens, Philips)             60\n",
       "8  synthseg-qc       (GE, Philips)             41"
      ]
     },
     "execution_count": 18,
     "metadata": {},
     "output_type": "execute_result"
    }
   ],
   "source": [
    "experiments"
   ]
  },
  {
   "attachments": {},
   "cell_type": "markdown",
   "id": "b7544fa1",
   "metadata": {},
   "source": [
    "## Depression Subset"
   ]
  },
  {
   "attachments": {},
   "cell_type": "markdown",
   "id": "c5ee679c",
   "metadata": {},
   "source": [
    "### ABCD Subset"
   ]
  },
  {
   "cell_type": "code",
   "execution_count": 19,
   "id": "16d868f1",
   "metadata": {},
   "outputs": [],
   "source": [
    "experiments = run_manufacturer_analysis(\n",
    "    df=abcd_subset.df, \n",
    "    scanners=scanners_subset, \n",
    "    manufacturers=manufacturers,\n",
    "    results_df=experiments, \n",
    "    dataset_name=\"abcd-subset\"\n",
    "    )"
   ]
  },
  {
   "cell_type": "code",
   "execution_count": 20,
   "id": "d5c14e08",
   "metadata": {},
   "outputs": [
    {
     "data": {
      "text/html": [
       "<div>\n",
       "<style scoped>\n",
       "    .dataframe tbody tr th:only-of-type {\n",
       "        vertical-align: middle;\n",
       "    }\n",
       "\n",
       "    .dataframe tbody tr th {\n",
       "        vertical-align: top;\n",
       "    }\n",
       "\n",
       "    .dataframe thead th {\n",
       "        text-align: right;\n",
       "    }\n",
       "</style>\n",
       "<table border=\"1\" class=\"dataframe\">\n",
       "  <thead>\n",
       "    <tr style=\"text-align: right;\">\n",
       "      <th></th>\n",
       "      <th>dataset</th>\n",
       "      <th>manufacturers</th>\n",
       "      <th>n_sig_regions</th>\n",
       "    </tr>\n",
       "  </thead>\n",
       "  <tbody>\n",
       "    <tr>\n",
       "      <th>0</th>\n",
       "      <td>abcd</td>\n",
       "      <td>(Siemens, GE)</td>\n",
       "      <td>77</td>\n",
       "    </tr>\n",
       "    <tr>\n",
       "      <th>1</th>\n",
       "      <td>abcd</td>\n",
       "      <td>(Siemens, Philips)</td>\n",
       "      <td>71</td>\n",
       "    </tr>\n",
       "    <tr>\n",
       "      <th>2</th>\n",
       "      <td>abcd</td>\n",
       "      <td>(GE, Philips)</td>\n",
       "      <td>79</td>\n",
       "    </tr>\n",
       "    <tr>\n",
       "      <th>3</th>\n",
       "      <td>synthseg</td>\n",
       "      <td>(Siemens, GE)</td>\n",
       "      <td>63</td>\n",
       "    </tr>\n",
       "    <tr>\n",
       "      <th>4</th>\n",
       "      <td>synthseg</td>\n",
       "      <td>(Siemens, Philips)</td>\n",
       "      <td>69</td>\n",
       "    </tr>\n",
       "    <tr>\n",
       "      <th>5</th>\n",
       "      <td>synthseg</td>\n",
       "      <td>(GE, Philips)</td>\n",
       "      <td>39</td>\n",
       "    </tr>\n",
       "    <tr>\n",
       "      <th>6</th>\n",
       "      <td>synthseg-qc</td>\n",
       "      <td>(Siemens, GE)</td>\n",
       "      <td>64</td>\n",
       "    </tr>\n",
       "    <tr>\n",
       "      <th>7</th>\n",
       "      <td>synthseg-qc</td>\n",
       "      <td>(Siemens, Philips)</td>\n",
       "      <td>60</td>\n",
       "    </tr>\n",
       "    <tr>\n",
       "      <th>8</th>\n",
       "      <td>synthseg-qc</td>\n",
       "      <td>(GE, Philips)</td>\n",
       "      <td>41</td>\n",
       "    </tr>\n",
       "    <tr>\n",
       "      <th>9</th>\n",
       "      <td>abcd-subset</td>\n",
       "      <td>(Siemens, GE)</td>\n",
       "      <td>70</td>\n",
       "    </tr>\n",
       "    <tr>\n",
       "      <th>10</th>\n",
       "      <td>abcd-subset</td>\n",
       "      <td>(Siemens, Philips)</td>\n",
       "      <td>54</td>\n",
       "    </tr>\n",
       "    <tr>\n",
       "      <th>11</th>\n",
       "      <td>abcd-subset</td>\n",
       "      <td>(GE, Philips)</td>\n",
       "      <td>65</td>\n",
       "    </tr>\n",
       "  </tbody>\n",
       "</table>\n",
       "</div>"
      ],
      "text/plain": [
       "        dataset       manufacturers  n_sig_regions\n",
       "0          abcd       (Siemens, GE)             77\n",
       "1          abcd  (Siemens, Philips)             71\n",
       "2          abcd       (GE, Philips)             79\n",
       "3      synthseg       (Siemens, GE)             63\n",
       "4      synthseg  (Siemens, Philips)             69\n",
       "5      synthseg       (GE, Philips)             39\n",
       "6   synthseg-qc       (Siemens, GE)             64\n",
       "7   synthseg-qc  (Siemens, Philips)             60\n",
       "8   synthseg-qc       (GE, Philips)             41\n",
       "9   abcd-subset       (Siemens, GE)             70\n",
       "10  abcd-subset  (Siemens, Philips)             54\n",
       "11  abcd-subset       (GE, Philips)             65"
      ]
     },
     "execution_count": 20,
     "metadata": {},
     "output_type": "execute_result"
    }
   ],
   "source": [
    "experiments"
   ]
  },
  {
   "attachments": {},
   "cell_type": "markdown",
   "id": "029e9ba9",
   "metadata": {},
   "source": [
    "### SynthSeg Subset"
   ]
  },
  {
   "cell_type": "code",
   "execution_count": 21,
   "id": "f265fc28",
   "metadata": {},
   "outputs": [],
   "source": [
    "experiments = run_manufacturer_analysis(\n",
    "    df=synthseg_subset.df, \n",
    "    scanners=scanners, \n",
    "    manufacturers=manufacturers,\n",
    "    results_df=experiments, \n",
    "    dataset_name=\"synthseg-subset\"\n",
    "    )"
   ]
  },
  {
   "cell_type": "code",
   "execution_count": 22,
   "id": "831aa8c6",
   "metadata": {},
   "outputs": [
    {
     "data": {
      "text/html": [
       "<div>\n",
       "<style scoped>\n",
       "    .dataframe tbody tr th:only-of-type {\n",
       "        vertical-align: middle;\n",
       "    }\n",
       "\n",
       "    .dataframe tbody tr th {\n",
       "        vertical-align: top;\n",
       "    }\n",
       "\n",
       "    .dataframe thead th {\n",
       "        text-align: right;\n",
       "    }\n",
       "</style>\n",
       "<table border=\"1\" class=\"dataframe\">\n",
       "  <thead>\n",
       "    <tr style=\"text-align: right;\">\n",
       "      <th></th>\n",
       "      <th>dataset</th>\n",
       "      <th>manufacturers</th>\n",
       "      <th>n_sig_regions</th>\n",
       "    </tr>\n",
       "  </thead>\n",
       "  <tbody>\n",
       "    <tr>\n",
       "      <th>0</th>\n",
       "      <td>abcd</td>\n",
       "      <td>(Siemens, GE)</td>\n",
       "      <td>77</td>\n",
       "    </tr>\n",
       "    <tr>\n",
       "      <th>1</th>\n",
       "      <td>abcd</td>\n",
       "      <td>(Siemens, Philips)</td>\n",
       "      <td>71</td>\n",
       "    </tr>\n",
       "    <tr>\n",
       "      <th>2</th>\n",
       "      <td>abcd</td>\n",
       "      <td>(GE, Philips)</td>\n",
       "      <td>79</td>\n",
       "    </tr>\n",
       "    <tr>\n",
       "      <th>3</th>\n",
       "      <td>synthseg</td>\n",
       "      <td>(Siemens, GE)</td>\n",
       "      <td>63</td>\n",
       "    </tr>\n",
       "    <tr>\n",
       "      <th>4</th>\n",
       "      <td>synthseg</td>\n",
       "      <td>(Siemens, Philips)</td>\n",
       "      <td>69</td>\n",
       "    </tr>\n",
       "    <tr>\n",
       "      <th>5</th>\n",
       "      <td>synthseg</td>\n",
       "      <td>(GE, Philips)</td>\n",
       "      <td>39</td>\n",
       "    </tr>\n",
       "    <tr>\n",
       "      <th>6</th>\n",
       "      <td>synthseg-qc</td>\n",
       "      <td>(Siemens, GE)</td>\n",
       "      <td>64</td>\n",
       "    </tr>\n",
       "    <tr>\n",
       "      <th>7</th>\n",
       "      <td>synthseg-qc</td>\n",
       "      <td>(Siemens, Philips)</td>\n",
       "      <td>60</td>\n",
       "    </tr>\n",
       "    <tr>\n",
       "      <th>8</th>\n",
       "      <td>synthseg-qc</td>\n",
       "      <td>(GE, Philips)</td>\n",
       "      <td>41</td>\n",
       "    </tr>\n",
       "    <tr>\n",
       "      <th>9</th>\n",
       "      <td>abcd-subset</td>\n",
       "      <td>(Siemens, GE)</td>\n",
       "      <td>70</td>\n",
       "    </tr>\n",
       "    <tr>\n",
       "      <th>10</th>\n",
       "      <td>abcd-subset</td>\n",
       "      <td>(Siemens, Philips)</td>\n",
       "      <td>54</td>\n",
       "    </tr>\n",
       "    <tr>\n",
       "      <th>11</th>\n",
       "      <td>abcd-subset</td>\n",
       "      <td>(GE, Philips)</td>\n",
       "      <td>65</td>\n",
       "    </tr>\n",
       "    <tr>\n",
       "      <th>12</th>\n",
       "      <td>synthseg-subset</td>\n",
       "      <td>(Siemens, GE)</td>\n",
       "      <td>34</td>\n",
       "    </tr>\n",
       "    <tr>\n",
       "      <th>13</th>\n",
       "      <td>synthseg-subset</td>\n",
       "      <td>(Siemens, Philips)</td>\n",
       "      <td>39</td>\n",
       "    </tr>\n",
       "    <tr>\n",
       "      <th>14</th>\n",
       "      <td>synthseg-subset</td>\n",
       "      <td>(GE, Philips)</td>\n",
       "      <td>31</td>\n",
       "    </tr>\n",
       "  </tbody>\n",
       "</table>\n",
       "</div>"
      ],
      "text/plain": [
       "            dataset       manufacturers  n_sig_regions\n",
       "0              abcd       (Siemens, GE)             77\n",
       "1              abcd  (Siemens, Philips)             71\n",
       "2              abcd       (GE, Philips)             79\n",
       "3          synthseg       (Siemens, GE)             63\n",
       "4          synthseg  (Siemens, Philips)             69\n",
       "5          synthseg       (GE, Philips)             39\n",
       "6       synthseg-qc       (Siemens, GE)             64\n",
       "7       synthseg-qc  (Siemens, Philips)             60\n",
       "8       synthseg-qc       (GE, Philips)             41\n",
       "9       abcd-subset       (Siemens, GE)             70\n",
       "10      abcd-subset  (Siemens, Philips)             54\n",
       "11      abcd-subset       (GE, Philips)             65\n",
       "12  synthseg-subset       (Siemens, GE)             34\n",
       "13  synthseg-subset  (Siemens, Philips)             39\n",
       "14  synthseg-subset       (GE, Philips)             31"
      ]
     },
     "execution_count": 22,
     "metadata": {},
     "output_type": "execute_result"
    }
   ],
   "source": [
    "experiments"
   ]
  },
  {
   "attachments": {},
   "cell_type": "markdown",
   "id": "c923345d",
   "metadata": {},
   "source": [
    "### SynthSeg Subset with QC"
   ]
  },
  {
   "cell_type": "code",
   "execution_count": 23,
   "id": "f6fd7ed7",
   "metadata": {},
   "outputs": [],
   "source": [
    "qc_scanners_subset = scanners_subset[scanners_subset.index.isin(synthseg_subset.qc_df.index)]\n",
    "experiments = run_manufacturer_analysis(\n",
    "    df=synthseg_subset.qc_df, \n",
    "    scanners=qc_scanners_subset, \n",
    "    manufacturers=manufacturers,\n",
    "    results_df=experiments, \n",
    "    dataset_name=\"synthseg-subset-qc\"\n",
    "    )"
   ]
  },
  {
   "cell_type": "code",
   "execution_count": 24,
   "id": "e42bc158",
   "metadata": {},
   "outputs": [
    {
     "data": {
      "text/html": [
       "<div>\n",
       "<style scoped>\n",
       "    .dataframe tbody tr th:only-of-type {\n",
       "        vertical-align: middle;\n",
       "    }\n",
       "\n",
       "    .dataframe tbody tr th {\n",
       "        vertical-align: top;\n",
       "    }\n",
       "\n",
       "    .dataframe thead th {\n",
       "        text-align: right;\n",
       "    }\n",
       "</style>\n",
       "<table border=\"1\" class=\"dataframe\">\n",
       "  <thead>\n",
       "    <tr style=\"text-align: right;\">\n",
       "      <th></th>\n",
       "      <th>dataset</th>\n",
       "      <th>manufacturers</th>\n",
       "      <th>n_sig_regions</th>\n",
       "    </tr>\n",
       "  </thead>\n",
       "  <tbody>\n",
       "    <tr>\n",
       "      <th>0</th>\n",
       "      <td>abcd</td>\n",
       "      <td>(Siemens, GE)</td>\n",
       "      <td>77</td>\n",
       "    </tr>\n",
       "    <tr>\n",
       "      <th>1</th>\n",
       "      <td>abcd</td>\n",
       "      <td>(Siemens, Philips)</td>\n",
       "      <td>71</td>\n",
       "    </tr>\n",
       "    <tr>\n",
       "      <th>2</th>\n",
       "      <td>abcd</td>\n",
       "      <td>(GE, Philips)</td>\n",
       "      <td>79</td>\n",
       "    </tr>\n",
       "    <tr>\n",
       "      <th>3</th>\n",
       "      <td>synthseg</td>\n",
       "      <td>(Siemens, GE)</td>\n",
       "      <td>63</td>\n",
       "    </tr>\n",
       "    <tr>\n",
       "      <th>4</th>\n",
       "      <td>synthseg</td>\n",
       "      <td>(Siemens, Philips)</td>\n",
       "      <td>69</td>\n",
       "    </tr>\n",
       "    <tr>\n",
       "      <th>5</th>\n",
       "      <td>synthseg</td>\n",
       "      <td>(GE, Philips)</td>\n",
       "      <td>39</td>\n",
       "    </tr>\n",
       "    <tr>\n",
       "      <th>6</th>\n",
       "      <td>synthseg-qc</td>\n",
       "      <td>(Siemens, GE)</td>\n",
       "      <td>64</td>\n",
       "    </tr>\n",
       "    <tr>\n",
       "      <th>7</th>\n",
       "      <td>synthseg-qc</td>\n",
       "      <td>(Siemens, Philips)</td>\n",
       "      <td>60</td>\n",
       "    </tr>\n",
       "    <tr>\n",
       "      <th>8</th>\n",
       "      <td>synthseg-qc</td>\n",
       "      <td>(GE, Philips)</td>\n",
       "      <td>41</td>\n",
       "    </tr>\n",
       "    <tr>\n",
       "      <th>9</th>\n",
       "      <td>abcd-subset</td>\n",
       "      <td>(Siemens, GE)</td>\n",
       "      <td>70</td>\n",
       "    </tr>\n",
       "    <tr>\n",
       "      <th>10</th>\n",
       "      <td>abcd-subset</td>\n",
       "      <td>(Siemens, Philips)</td>\n",
       "      <td>54</td>\n",
       "    </tr>\n",
       "    <tr>\n",
       "      <th>11</th>\n",
       "      <td>abcd-subset</td>\n",
       "      <td>(GE, Philips)</td>\n",
       "      <td>65</td>\n",
       "    </tr>\n",
       "    <tr>\n",
       "      <th>12</th>\n",
       "      <td>synthseg-subset</td>\n",
       "      <td>(Siemens, GE)</td>\n",
       "      <td>34</td>\n",
       "    </tr>\n",
       "    <tr>\n",
       "      <th>13</th>\n",
       "      <td>synthseg-subset</td>\n",
       "      <td>(Siemens, Philips)</td>\n",
       "      <td>39</td>\n",
       "    </tr>\n",
       "    <tr>\n",
       "      <th>14</th>\n",
       "      <td>synthseg-subset</td>\n",
       "      <td>(GE, Philips)</td>\n",
       "      <td>31</td>\n",
       "    </tr>\n",
       "    <tr>\n",
       "      <th>15</th>\n",
       "      <td>synthseg-subset-qc</td>\n",
       "      <td>(Siemens, GE)</td>\n",
       "      <td>36</td>\n",
       "    </tr>\n",
       "    <tr>\n",
       "      <th>16</th>\n",
       "      <td>synthseg-subset-qc</td>\n",
       "      <td>(Siemens, Philips)</td>\n",
       "      <td>31</td>\n",
       "    </tr>\n",
       "    <tr>\n",
       "      <th>17</th>\n",
       "      <td>synthseg-subset-qc</td>\n",
       "      <td>(GE, Philips)</td>\n",
       "      <td>25</td>\n",
       "    </tr>\n",
       "  </tbody>\n",
       "</table>\n",
       "</div>"
      ],
      "text/plain": [
       "               dataset       manufacturers  n_sig_regions\n",
       "0                 abcd       (Siemens, GE)             77\n",
       "1                 abcd  (Siemens, Philips)             71\n",
       "2                 abcd       (GE, Philips)             79\n",
       "3             synthseg       (Siemens, GE)             63\n",
       "4             synthseg  (Siemens, Philips)             69\n",
       "5             synthseg       (GE, Philips)             39\n",
       "6          synthseg-qc       (Siemens, GE)             64\n",
       "7          synthseg-qc  (Siemens, Philips)             60\n",
       "8          synthseg-qc       (GE, Philips)             41\n",
       "9          abcd-subset       (Siemens, GE)             70\n",
       "10         abcd-subset  (Siemens, Philips)             54\n",
       "11         abcd-subset       (GE, Philips)             65\n",
       "12     synthseg-subset       (Siemens, GE)             34\n",
       "13     synthseg-subset  (Siemens, Philips)             39\n",
       "14     synthseg-subset       (GE, Philips)             31\n",
       "15  synthseg-subset-qc       (Siemens, GE)             36\n",
       "16  synthseg-subset-qc  (Siemens, Philips)             31\n",
       "17  synthseg-subset-qc       (GE, Philips)             25"
      ]
     },
     "execution_count": 24,
     "metadata": {},
     "output_type": "execute_result"
    }
   ],
   "source": [
    "experiments"
   ]
  },
  {
   "attachments": {},
   "cell_type": "markdown",
   "id": "78943004",
   "metadata": {},
   "source": [
    "## Postprocessing"
   ]
  },
  {
   "cell_type": "code",
   "execution_count": 25,
   "id": "26f057fe",
   "metadata": {},
   "outputs": [
    {
     "data": {
      "text/html": [
       "<div>\n",
       "<style scoped>\n",
       "    .dataframe tbody tr th:only-of-type {\n",
       "        vertical-align: middle;\n",
       "    }\n",
       "\n",
       "    .dataframe tbody tr th {\n",
       "        vertical-align: top;\n",
       "    }\n",
       "\n",
       "    .dataframe thead th {\n",
       "        text-align: right;\n",
       "    }\n",
       "</style>\n",
       "<table border=\"1\" class=\"dataframe\">\n",
       "  <thead>\n",
       "    <tr style=\"text-align: right;\">\n",
       "      <th></th>\n",
       "      <th>dataset</th>\n",
       "      <th>manufacturers</th>\n",
       "      <th>n_sig_regions</th>\n",
       "    </tr>\n",
       "  </thead>\n",
       "  <tbody>\n",
       "    <tr>\n",
       "      <th>17</th>\n",
       "      <td>synthseg-subset-qc</td>\n",
       "      <td>(GE, Philips)</td>\n",
       "      <td>25</td>\n",
       "    </tr>\n",
       "    <tr>\n",
       "      <th>14</th>\n",
       "      <td>synthseg-subset</td>\n",
       "      <td>(GE, Philips)</td>\n",
       "      <td>31</td>\n",
       "    </tr>\n",
       "    <tr>\n",
       "      <th>5</th>\n",
       "      <td>synthseg</td>\n",
       "      <td>(GE, Philips)</td>\n",
       "      <td>39</td>\n",
       "    </tr>\n",
       "    <tr>\n",
       "      <th>8</th>\n",
       "      <td>synthseg-qc</td>\n",
       "      <td>(GE, Philips)</td>\n",
       "      <td>41</td>\n",
       "    </tr>\n",
       "    <tr>\n",
       "      <th>11</th>\n",
       "      <td>abcd-subset</td>\n",
       "      <td>(GE, Philips)</td>\n",
       "      <td>65</td>\n",
       "    </tr>\n",
       "    <tr>\n",
       "      <th>2</th>\n",
       "      <td>abcd</td>\n",
       "      <td>(GE, Philips)</td>\n",
       "      <td>79</td>\n",
       "    </tr>\n",
       "    <tr>\n",
       "      <th>12</th>\n",
       "      <td>synthseg-subset</td>\n",
       "      <td>(Siemens, GE)</td>\n",
       "      <td>34</td>\n",
       "    </tr>\n",
       "    <tr>\n",
       "      <th>15</th>\n",
       "      <td>synthseg-subset-qc</td>\n",
       "      <td>(Siemens, GE)</td>\n",
       "      <td>36</td>\n",
       "    </tr>\n",
       "    <tr>\n",
       "      <th>3</th>\n",
       "      <td>synthseg</td>\n",
       "      <td>(Siemens, GE)</td>\n",
       "      <td>63</td>\n",
       "    </tr>\n",
       "    <tr>\n",
       "      <th>6</th>\n",
       "      <td>synthseg-qc</td>\n",
       "      <td>(Siemens, GE)</td>\n",
       "      <td>64</td>\n",
       "    </tr>\n",
       "    <tr>\n",
       "      <th>9</th>\n",
       "      <td>abcd-subset</td>\n",
       "      <td>(Siemens, GE)</td>\n",
       "      <td>70</td>\n",
       "    </tr>\n",
       "    <tr>\n",
       "      <th>0</th>\n",
       "      <td>abcd</td>\n",
       "      <td>(Siemens, GE)</td>\n",
       "      <td>77</td>\n",
       "    </tr>\n",
       "    <tr>\n",
       "      <th>16</th>\n",
       "      <td>synthseg-subset-qc</td>\n",
       "      <td>(Siemens, Philips)</td>\n",
       "      <td>31</td>\n",
       "    </tr>\n",
       "    <tr>\n",
       "      <th>13</th>\n",
       "      <td>synthseg-subset</td>\n",
       "      <td>(Siemens, Philips)</td>\n",
       "      <td>39</td>\n",
       "    </tr>\n",
       "    <tr>\n",
       "      <th>10</th>\n",
       "      <td>abcd-subset</td>\n",
       "      <td>(Siemens, Philips)</td>\n",
       "      <td>54</td>\n",
       "    </tr>\n",
       "    <tr>\n",
       "      <th>7</th>\n",
       "      <td>synthseg-qc</td>\n",
       "      <td>(Siemens, Philips)</td>\n",
       "      <td>60</td>\n",
       "    </tr>\n",
       "    <tr>\n",
       "      <th>4</th>\n",
       "      <td>synthseg</td>\n",
       "      <td>(Siemens, Philips)</td>\n",
       "      <td>69</td>\n",
       "    </tr>\n",
       "    <tr>\n",
       "      <th>1</th>\n",
       "      <td>abcd</td>\n",
       "      <td>(Siemens, Philips)</td>\n",
       "      <td>71</td>\n",
       "    </tr>\n",
       "  </tbody>\n",
       "</table>\n",
       "</div>"
      ],
      "text/plain": [
       "               dataset       manufacturers  n_sig_regions\n",
       "17  synthseg-subset-qc       (GE, Philips)             25\n",
       "14     synthseg-subset       (GE, Philips)             31\n",
       "5             synthseg       (GE, Philips)             39\n",
       "8          synthseg-qc       (GE, Philips)             41\n",
       "11         abcd-subset       (GE, Philips)             65\n",
       "2                 abcd       (GE, Philips)             79\n",
       "12     synthseg-subset       (Siemens, GE)             34\n",
       "15  synthseg-subset-qc       (Siemens, GE)             36\n",
       "3             synthseg       (Siemens, GE)             63\n",
       "6          synthseg-qc       (Siemens, GE)             64\n",
       "9          abcd-subset       (Siemens, GE)             70\n",
       "0                 abcd       (Siemens, GE)             77\n",
       "16  synthseg-subset-qc  (Siemens, Philips)             31\n",
       "13     synthseg-subset  (Siemens, Philips)             39\n",
       "10         abcd-subset  (Siemens, Philips)             54\n",
       "7          synthseg-qc  (Siemens, Philips)             60\n",
       "4             synthseg  (Siemens, Philips)             69\n",
       "1                 abcd  (Siemens, Philips)             71"
      ]
     },
     "execution_count": 25,
     "metadata": {},
     "output_type": "execute_result"
    }
   ],
   "source": [
    "experiments.sort_values(by=[\"manufacturers\", \"n_sig_regions\"])"
   ]
  },
  {
   "attachments": {},
   "cell_type": "markdown",
   "id": "974c4894",
   "metadata": {},
   "source": [
    "# ABCD vs SynthSeg"
   ]
  },
  {
   "cell_type": "code",
   "execution_count": 26,
   "id": "3e7dc852",
   "metadata": {},
   "outputs": [
    {
     "data": {
      "text/html": [
       "<div>\n",
       "<style scoped>\n",
       "    .dataframe tbody tr th:only-of-type {\n",
       "        vertical-align: middle;\n",
       "    }\n",
       "\n",
       "    .dataframe tbody tr th {\n",
       "        vertical-align: top;\n",
       "    }\n",
       "\n",
       "    .dataframe thead th {\n",
       "        text-align: right;\n",
       "    }\n",
       "</style>\n",
       "<table border=\"1\" class=\"dataframe\">\n",
       "  <thead>\n",
       "    <tr style=\"text-align: right;\">\n",
       "      <th></th>\n",
       "      <th>feature</th>\n",
       "      <th>p_value</th>\n",
       "    </tr>\n",
       "  </thead>\n",
       "  <tbody>\n",
       "    <tr>\n",
       "      <th>0</th>\n",
       "      <td>ctx-lh-bankssts</td>\n",
       "      <td>0.000000e+00</td>\n",
       "    </tr>\n",
       "    <tr>\n",
       "      <th>63</th>\n",
       "      <td>ctx-rh-frontalpole</td>\n",
       "      <td>0.000000e+00</td>\n",
       "    </tr>\n",
       "    <tr>\n",
       "      <th>62</th>\n",
       "      <td>ctx-rh-supramarginal</td>\n",
       "      <td>0.000000e+00</td>\n",
       "    </tr>\n",
       "    <tr>\n",
       "      <th>61</th>\n",
       "      <td>ctx-rh-superiortemporal</td>\n",
       "      <td>0.000000e+00</td>\n",
       "    </tr>\n",
       "    <tr>\n",
       "      <th>60</th>\n",
       "      <td>ctx-rh-superiorparietal</td>\n",
       "      <td>0.000000e+00</td>\n",
       "    </tr>\n",
       "    <tr>\n",
       "      <th>...</th>\n",
       "      <td>...</td>\n",
       "      <td>...</td>\n",
       "    </tr>\n",
       "    <tr>\n",
       "      <th>54</th>\n",
       "      <td>ctx-rh-posteriorcingulate</td>\n",
       "      <td>1.773028e-32</td>\n",
       "    </tr>\n",
       "    <tr>\n",
       "      <th>45</th>\n",
       "      <td>ctx-rh-lingual</td>\n",
       "      <td>1.313076e-22</td>\n",
       "    </tr>\n",
       "    <tr>\n",
       "      <th>68</th>\n",
       "      <td>right cerebral cortex</td>\n",
       "      <td>8.195002e-21</td>\n",
       "    </tr>\n",
       "    <tr>\n",
       "      <th>34</th>\n",
       "      <td>ctx-rh-bankssts</td>\n",
       "      <td>1.793833e-12</td>\n",
       "    </tr>\n",
       "    <tr>\n",
       "      <th>86</th>\n",
       "      <td>right lateral ventricle</td>\n",
       "      <td>1.059701e-02</td>\n",
       "    </tr>\n",
       "  </tbody>\n",
       "</table>\n",
       "<p>98 rows × 2 columns</p>\n",
       "</div>"
      ],
      "text/plain": [
       "                      feature       p_value\n",
       "0             ctx-lh-bankssts  0.000000e+00\n",
       "63         ctx-rh-frontalpole  0.000000e+00\n",
       "62       ctx-rh-supramarginal  0.000000e+00\n",
       "61    ctx-rh-superiortemporal  0.000000e+00\n",
       "60    ctx-rh-superiorparietal  0.000000e+00\n",
       "..                        ...           ...\n",
       "54  ctx-rh-posteriorcingulate  1.773028e-32\n",
       "45             ctx-rh-lingual  1.313076e-22\n",
       "68      right cerebral cortex  8.195002e-21\n",
       "34            ctx-rh-bankssts  1.793833e-12\n",
       "86    right lateral ventricle  1.059701e-02\n",
       "\n",
       "[98 rows x 2 columns]"
      ]
     },
     "execution_count": 26,
     "metadata": {},
     "output_type": "execute_result"
    }
   ],
   "source": [
    "# ABCD vs SynthSeg\n",
    "abcd_vs_synthseg = StatisticalAnalysis(\n",
    "    abcd.df, synthseg.df, dataset_names=[\"ABCD\", \"SynthSeg\"], ind=False, verbose=False\n",
    ")\n",
    "methods_sig_vols, methods_all_stats = abcd_vs_synthseg.compare()\n",
    "\n",
    "methods_sig_vols"
   ]
  },
  {
   "cell_type": "code",
   "execution_count": 27,
   "id": "d912ddab",
   "metadata": {},
   "outputs": [
    {
     "name": "stdout",
     "output_type": "stream",
     "text": [
      "left cerebral white matter\n",
      "right accumbens area\n",
      "right hippocampus\n",
      "right putamen\n",
      "right caudate\n",
      "right thalamus\n",
      "right cerebellum white matter\n",
      "right inferior lateral ventricle\n",
      "right cerebral white matter\n",
      "left accumbens area\n",
      "brain-stem\n",
      "3rd ventricle\n",
      "left pallidum\n",
      "left putamen\n",
      "left caudate\n",
      "left cerebellum cortex\n",
      "left cerebellum white matter\n",
      "left inferior lateral ventricle\n",
      "csf 0.0\n",
      "csf\n",
      "total intracranial\n",
      "right amygdala\n",
      "4th ventricle\n",
      "right ventral DC\n",
      "left amygdala\n",
      "left ventral DC\n",
      "left lateral ventricle\n",
      "right pallidum\n",
      "left cerebral cortex\n",
      "left thalamus\n",
      "right cerebral cortex\n",
      "right lateral ventricle\n",
      "right cerebellum cortex\n",
      "left hippocampus\n"
     ]
    },
    {
     "data": {
      "image/png": "[encoded data removed]",
      "text/plain": [
       "<Figure size 720x360 with 1 Axes>"
      ]
     },
     "metadata": {
      "needs_background": "light"
     },
     "output_type": "display_data"
    }
   ],
   "source": [
    "# plot some of the statistically significant features\n",
    "i = 0\n",
    "for f, p in zip(methods_all_stats[\"feature\"], methods_all_stats[\"p_value\"]):\n",
    "    plot=False\n",
    "    if \"ctx\" in f:\n",
    "        continue\n",
    "    if \"amygdala\" in f:\n",
    "        plot=False\n",
    "    if \"hippocampus\" in f:\n",
    "        plot=False\n",
    "    if \"caudate\" in f:\n",
    "        plot=False\n",
    "    if \"white matter\" in f:\n",
    "        plot=False\n",
    "    if \"csf\" in f:\n",
    "        plot=True \n",
    "    if plot == True:\n",
    "        print(f, p)\n",
    "        abcd_vs_synthseg.plot_feat(f)\n",
    "    #if i == 10:\n",
    "    #    break\n",
    "    print(f)\n",
    "    #abcd_vs_synthseg.plot_feat(f)\n",
    "    i += 1"
   ]
  },
  {
   "attachments": {},
   "cell_type": "markdown",
   "id": "f11c0f7b",
   "metadata": {},
   "source": [
    "# Figures"
   ]
  },
  {
   "attachments": {},
   "cell_type": "markdown",
   "id": "afed2ca0",
   "metadata": {},
   "source": [
    "TODO:\n",
    "- bar plot of different manufacturers\n",
    "- mean/std of different manufacturers\n",
    "- linear regression plot of SynthSeg+ volumes vs FreeSurfer"
   ]
  },
  {
   "cell_type": "code",
   "execution_count": 28,
   "id": "89639f96",
   "metadata": {},
   "outputs": [],
   "source": [
    "fig_dir = \"../../figures/\""
   ]
  },
  {
   "cell_type": "code",
   "execution_count": 29,
   "id": "19d31a91",
   "metadata": {},
   "outputs": [
    {
     "data": {
      "text/html": [
       "<div>\n",
       "<style scoped>\n",
       "    .dataframe tbody tr th:only-of-type {\n",
       "        vertical-align: middle;\n",
       "    }\n",
       "\n",
       "    .dataframe tbody tr th {\n",
       "        vertical-align: top;\n",
       "    }\n",
       "\n",
       "    .dataframe thead th {\n",
       "        text-align: right;\n",
       "    }\n",
       "</style>\n",
       "<table border=\"1\" class=\"dataframe\">\n",
       "  <thead>\n",
       "    <tr style=\"text-align: right;\">\n",
       "      <th></th>\n",
       "      <th>dataset</th>\n",
       "      <th>manufacturers</th>\n",
       "      <th>n_sig_regions</th>\n",
       "    </tr>\n",
       "  </thead>\n",
       "  <tbody>\n",
       "    <tr>\n",
       "      <th>0</th>\n",
       "      <td>abcd</td>\n",
       "      <td>(Siemens, GE)</td>\n",
       "      <td>77</td>\n",
       "    </tr>\n",
       "    <tr>\n",
       "      <th>1</th>\n",
       "      <td>abcd</td>\n",
       "      <td>(Siemens, Philips)</td>\n",
       "      <td>71</td>\n",
       "    </tr>\n",
       "    <tr>\n",
       "      <th>2</th>\n",
       "      <td>abcd</td>\n",
       "      <td>(GE, Philips)</td>\n",
       "      <td>79</td>\n",
       "    </tr>\n",
       "    <tr>\n",
       "      <th>3</th>\n",
       "      <td>synthseg</td>\n",
       "      <td>(Siemens, GE)</td>\n",
       "      <td>63</td>\n",
       "    </tr>\n",
       "    <tr>\n",
       "      <th>4</th>\n",
       "      <td>synthseg</td>\n",
       "      <td>(Siemens, Philips)</td>\n",
       "      <td>69</td>\n",
       "    </tr>\n",
       "    <tr>\n",
       "      <th>5</th>\n",
       "      <td>synthseg</td>\n",
       "      <td>(GE, Philips)</td>\n",
       "      <td>39</td>\n",
       "    </tr>\n",
       "    <tr>\n",
       "      <th>6</th>\n",
       "      <td>synthseg-qc</td>\n",
       "      <td>(Siemens, GE)</td>\n",
       "      <td>64</td>\n",
       "    </tr>\n",
       "    <tr>\n",
       "      <th>7</th>\n",
       "      <td>synthseg-qc</td>\n",
       "      <td>(Siemens, Philips)</td>\n",
       "      <td>60</td>\n",
       "    </tr>\n",
       "    <tr>\n",
       "      <th>8</th>\n",
       "      <td>synthseg-qc</td>\n",
       "      <td>(GE, Philips)</td>\n",
       "      <td>41</td>\n",
       "    </tr>\n",
       "    <tr>\n",
       "      <th>9</th>\n",
       "      <td>abcd-subset</td>\n",
       "      <td>(Siemens, GE)</td>\n",
       "      <td>70</td>\n",
       "    </tr>\n",
       "    <tr>\n",
       "      <th>10</th>\n",
       "      <td>abcd-subset</td>\n",
       "      <td>(Siemens, Philips)</td>\n",
       "      <td>54</td>\n",
       "    </tr>\n",
       "    <tr>\n",
       "      <th>11</th>\n",
       "      <td>abcd-subset</td>\n",
       "      <td>(GE, Philips)</td>\n",
       "      <td>65</td>\n",
       "    </tr>\n",
       "    <tr>\n",
       "      <th>12</th>\n",
       "      <td>synthseg-subset</td>\n",
       "      <td>(Siemens, GE)</td>\n",
       "      <td>34</td>\n",
       "    </tr>\n",
       "    <tr>\n",
       "      <th>13</th>\n",
       "      <td>synthseg-subset</td>\n",
       "      <td>(Siemens, Philips)</td>\n",
       "      <td>39</td>\n",
       "    </tr>\n",
       "    <tr>\n",
       "      <th>14</th>\n",
       "      <td>synthseg-subset</td>\n",
       "      <td>(GE, Philips)</td>\n",
       "      <td>31</td>\n",
       "    </tr>\n",
       "    <tr>\n",
       "      <th>15</th>\n",
       "      <td>synthseg-subset-qc</td>\n",
       "      <td>(Siemens, GE)</td>\n",
       "      <td>36</td>\n",
       "    </tr>\n",
       "    <tr>\n",
       "      <th>16</th>\n",
       "      <td>synthseg-subset-qc</td>\n",
       "      <td>(Siemens, Philips)</td>\n",
       "      <td>31</td>\n",
       "    </tr>\n",
       "    <tr>\n",
       "      <th>17</th>\n",
       "      <td>synthseg-subset-qc</td>\n",
       "      <td>(GE, Philips)</td>\n",
       "      <td>25</td>\n",
       "    </tr>\n",
       "  </tbody>\n",
       "</table>\n",
       "</div>"
      ],
      "text/plain": [
       "               dataset       manufacturers  n_sig_regions\n",
       "0                 abcd       (Siemens, GE)             77\n",
       "1                 abcd  (Siemens, Philips)             71\n",
       "2                 abcd       (GE, Philips)             79\n",
       "3             synthseg       (Siemens, GE)             63\n",
       "4             synthseg  (Siemens, Philips)             69\n",
       "5             synthseg       (GE, Philips)             39\n",
       "6          synthseg-qc       (Siemens, GE)             64\n",
       "7          synthseg-qc  (Siemens, Philips)             60\n",
       "8          synthseg-qc       (GE, Philips)             41\n",
       "9          abcd-subset       (Siemens, GE)             70\n",
       "10         abcd-subset  (Siemens, Philips)             54\n",
       "11         abcd-subset       (GE, Philips)             65\n",
       "12     synthseg-subset       (Siemens, GE)             34\n",
       "13     synthseg-subset  (Siemens, Philips)             39\n",
       "14     synthseg-subset       (GE, Philips)             31\n",
       "15  synthseg-subset-qc       (Siemens, GE)             36\n",
       "16  synthseg-subset-qc  (Siemens, Philips)             31\n",
       "17  synthseg-subset-qc       (GE, Philips)             25"
      ]
     },
     "execution_count": 29,
     "metadata": {},
     "output_type": "execute_result"
    }
   ],
   "source": [
    "experiments"
   ]
  },
  {
   "attachments": {},
   "cell_type": "markdown",
   "id": "d491fb33",
   "metadata": {},
   "source": [
    "Bar plot of different manufacturers"
   ]
  },
  {
   "cell_type": "code",
   "execution_count": 30,
   "id": "635c1a46",
   "metadata": {},
   "outputs": [
    {
     "name": "stderr",
     "output_type": "stream",
     "text": [
      "The PostScript backend does not support transparency; partially transparent artists will be rendered opaque.\n",
      "The PostScript backend does not support transparency; partially transparent artists will be rendered opaque.\n"
     ]
    },
    {
     "data": {
      "image/png": "[encoded data removed]",
      "text/plain": [
       "<Figure size 864x504 with 1 Axes>"
      ]
     },
     "metadata": {
      "needs_background": "light"
     },
     "output_type": "display_data"
    }
   ],
   "source": [
    "import seaborn as sns\n",
    "import matplotlib.pyplot as plt\n",
    "\n",
    "plt.figure(figsize=(12,7))\n",
    "\n",
    "\n",
    "sns.set_style(\"whitegrid\")\n",
    "sns.set_context(\"poster\") # paper, talk, notebook\n",
    "sns.set_palette(\"Set2\")\n",
    "\n",
    "fig =sns.barplot(data=experiments.sort_values(by=['n_sig_regions', 'manufacturers']), x=\"manufacturers\", y=\"n_sig_regions\", hue=\"dataset\")\n",
    "\n",
    "fig.set(title=\"Robustness to MRI Manufacturer Differences\")\n",
    "fig.set(xlabel='MRI Manufacturer Comparison', ylabel='# different ROIs')\n",
    "fig.set_xticklabels([\"Siemens v. GE\", \"Siemens v. Philips\", \"GE v. Philips\"])\n",
    "fig.legend(bbox_to_anchor=(1.0, 0.77))\n",
    "\n",
    "sns.despine()\n",
    "\n",
    "plt.savefig(\n",
    "    f\"{fig_dir}manufact_diff_bar\" + \".eps\",\n",
    "    format=\"eps\",\n",
    ")"
   ]
  },
  {
   "attachments": {},
   "cell_type": "markdown",
   "id": "50f7ee08",
   "metadata": {},
   "source": [
    "# Build dataset"
   ]
  },
  {
   "cell_type": "code",
   "execution_count": 31,
   "id": "12901cdc",
   "metadata": {},
   "outputs": [],
   "source": [
    "# SynthSeg\n",
    "ss = synthseg.df[\"total intracranial\"].to_frame()\n",
    "ss[\"source\"] = [\"synthseg\" for i in range(len(synthseg.df[\"total intracranial\"]))]\n",
    "ss[\"manufacturer\"] = scanners\n",
    "\n",
    "# SynthSeg + QC\n",
    "ssqc = synthseg.qc_df[\"total intracranial\"].to_frame()\n",
    "ssqc[\"source\"] = [\"synthseg+qc\" for i in range(len(synthseg.qc_df[\"total intracranial\"]))]\n",
    "ssqc[\"manufacturer\"] = qc_scanners\n",
    "\n",
    "# ABCD\n",
    "fs = abcd.df[\"total intracranial\"].to_frame()\n",
    "fs[\"source\"] = [\"freesurfer\" for i in range(len(abcd.df[\"total intracranial\"]))]\n",
    "fs[\"manufacturer\"] = scanners"
   ]
  },
  {
   "cell_type": "code",
   "execution_count": 32,
   "id": "dca33f5b",
   "metadata": {},
   "outputs": [
    {
     "data": {
      "text/html": [
       "<div>\n",
       "<style scoped>\n",
       "    .dataframe tbody tr th:only-of-type {\n",
       "        vertical-align: middle;\n",
       "    }\n",
       "\n",
       "    .dataframe tbody tr th {\n",
       "        vertical-align: top;\n",
       "    }\n",
       "\n",
       "    .dataframe thead th {\n",
       "        text-align: right;\n",
       "    }\n",
       "</style>\n",
       "<table border=\"1\" class=\"dataframe\">\n",
       "  <thead>\n",
       "    <tr style=\"text-align: right;\">\n",
       "      <th></th>\n",
       "      <th>total intracranial</th>\n",
       "      <th>source</th>\n",
       "      <th>manufacturer</th>\n",
       "    </tr>\n",
       "  </thead>\n",
       "  <tbody>\n",
       "    <tr>\n",
       "      <th>NDARINVW1J6282F</th>\n",
       "      <td>1527221.0</td>\n",
       "      <td>synthseg</td>\n",
       "      <td>Siemens</td>\n",
       "    </tr>\n",
       "    <tr>\n",
       "      <th>NDARINVW1M7NAKA</th>\n",
       "      <td>1356769.5</td>\n",
       "      <td>synthseg</td>\n",
       "      <td>Siemens</td>\n",
       "    </tr>\n",
       "    <tr>\n",
       "      <th>NDARINVW26YNDL9</th>\n",
       "      <td>1570371.2</td>\n",
       "      <td>synthseg</td>\n",
       "      <td>Siemens</td>\n",
       "    </tr>\n",
       "    <tr>\n",
       "      <th>NDARINVW2DZTWZ2</th>\n",
       "      <td>1547157.1</td>\n",
       "      <td>synthseg</td>\n",
       "      <td>Siemens</td>\n",
       "    </tr>\n",
       "    <tr>\n",
       "      <th>NDARINVW2GVHACV</th>\n",
       "      <td>1585975.8</td>\n",
       "      <td>synthseg</td>\n",
       "      <td>Siemens</td>\n",
       "    </tr>\n",
       "  </tbody>\n",
       "</table>\n",
       "</div>"
      ],
      "text/plain": [
       "                 total intracranial    source manufacturer\n",
       "NDARINVW1J6282F           1527221.0  synthseg      Siemens\n",
       "NDARINVW1M7NAKA           1356769.5  synthseg      Siemens\n",
       "NDARINVW26YNDL9           1570371.2  synthseg      Siemens\n",
       "NDARINVW2DZTWZ2           1547157.1  synthseg      Siemens\n",
       "NDARINVW2GVHACV           1585975.8  synthseg      Siemens"
      ]
     },
     "execution_count": 32,
     "metadata": {},
     "output_type": "execute_result"
    }
   ],
   "source": [
    "df = pd.concat([ss, ssqc, fs], axis='index')\n",
    "df.head()"
   ]
  },
  {
   "cell_type": "code",
   "execution_count": 33,
   "id": "b3d6c802",
   "metadata": {},
   "outputs": [
    {
     "name": "stderr",
     "output_type": "stream",
     "text": [
      "The PostScript backend does not support transparency; partially transparent artists will be rendered opaque.\n",
      "The PostScript backend does not support transparency; partially transparent artists will be rendered opaque.\n"
     ]
    },
    {
     "data": {
      "image/png": "[encoded data removed]",
      "text/plain": [
       "<Figure size 864x504 with 1 Axes>"
      ]
     },
     "metadata": {},
     "output_type": "display_data"
    }
   ],
   "source": [
    "plt.figure(figsize=(12,7))\n",
    "\n",
    "\n",
    "sns.set_style(\"whitegrid\")\n",
    "sns.set_context(\"poster\") # paper, talk, notebook\n",
    "sns.set_palette(\"Set2\")\n",
    "\n",
    "fig = sns.boxplot(data=df, x=\"manufacturer\", y=\"total intracranial\", hue=\"source\")\n",
    "\n",
    "fig.set(title=\"Intracranial Volume Across MRI Manufacturers\")\n",
    "fig.set(xlabel='MRI Manufacturer Comparison', ylabel='total intracranial volume (mm$^3$)')\n",
    "fig.legend(bbox_to_anchor=(1.0, 0.8))\n",
    "\n",
    "sns.despine()\n",
    "\n",
    "plt.savefig(\n",
    "    f\"{fig_dir}manufact_diff_box\" + \".eps\",\n",
    "    format=\"eps\",\n",
    ")"
   ]
  },
  {
   "cell_type": "code",
   "execution_count": 34,
   "id": "8bdcde68",
   "metadata": {},
   "outputs": [
    {
     "data": {
      "text/html": [
       "<div>\n",
       "<style scoped>\n",
       "    .dataframe tbody tr th:only-of-type {\n",
       "        vertical-align: middle;\n",
       "    }\n",
       "\n",
       "    .dataframe tbody tr th {\n",
       "        vertical-align: top;\n",
       "    }\n",
       "\n",
       "    .dataframe thead th {\n",
       "        text-align: right;\n",
       "    }\n",
       "</style>\n",
       "<table border=\"1\" class=\"dataframe\">\n",
       "  <thead>\n",
       "    <tr style=\"text-align: right;\">\n",
       "      <th></th>\n",
       "      <th>total intracranial</th>\n",
       "      <th>source</th>\n",
       "      <th>manufacturer</th>\n",
       "    </tr>\n",
       "  </thead>\n",
       "  <tbody>\n",
       "    <tr>\n",
       "      <th>NDARINVW1J6282F</th>\n",
       "      <td>1527221.0</td>\n",
       "      <td>synthseg</td>\n",
       "      <td>Siemens</td>\n",
       "    </tr>\n",
       "    <tr>\n",
       "      <th>NDARINVW1M7NAKA</th>\n",
       "      <td>1356769.5</td>\n",
       "      <td>synthseg</td>\n",
       "      <td>Siemens</td>\n",
       "    </tr>\n",
       "    <tr>\n",
       "      <th>NDARINVW26YNDL9</th>\n",
       "      <td>1570371.2</td>\n",
       "      <td>synthseg</td>\n",
       "      <td>Siemens</td>\n",
       "    </tr>\n",
       "    <tr>\n",
       "      <th>NDARINVW2DZTWZ2</th>\n",
       "      <td>1547157.1</td>\n",
       "      <td>synthseg</td>\n",
       "      <td>Siemens</td>\n",
       "    </tr>\n",
       "    <tr>\n",
       "      <th>NDARINVW2GVHACV</th>\n",
       "      <td>1585975.8</td>\n",
       "      <td>synthseg</td>\n",
       "      <td>Siemens</td>\n",
       "    </tr>\n",
       "    <tr>\n",
       "      <th>...</th>\n",
       "      <td>...</td>\n",
       "      <td>...</td>\n",
       "      <td>...</td>\n",
       "    </tr>\n",
       "    <tr>\n",
       "      <th>NDARINV1BR989ED</th>\n",
       "      <td>1319829.1</td>\n",
       "      <td>synthseg</td>\n",
       "      <td>Philips</td>\n",
       "    </tr>\n",
       "    <tr>\n",
       "      <th>NDARINV1BTYWJDX</th>\n",
       "      <td>1534436.1</td>\n",
       "      <td>synthseg</td>\n",
       "      <td>Siemens</td>\n",
       "    </tr>\n",
       "    <tr>\n",
       "      <th>NDARINV1BUXN6LH</th>\n",
       "      <td>1606058.8</td>\n",
       "      <td>synthseg</td>\n",
       "      <td>Siemens</td>\n",
       "    </tr>\n",
       "    <tr>\n",
       "      <th>NDARINV1BZ0TUT9</th>\n",
       "      <td>1367924.6</td>\n",
       "      <td>synthseg</td>\n",
       "      <td>Siemens</td>\n",
       "    </tr>\n",
       "    <tr>\n",
       "      <th>NDARINV1CC6HB4A</th>\n",
       "      <td>1530301.1</td>\n",
       "      <td>synthseg</td>\n",
       "      <td>GE</td>\n",
       "    </tr>\n",
       "  </tbody>\n",
       "</table>\n",
       "<p>11402 rows × 3 columns</p>\n",
       "</div>"
      ],
      "text/plain": [
       "                 total intracranial    source manufacturer\n",
       "NDARINVW1J6282F           1527221.0  synthseg      Siemens\n",
       "NDARINVW1M7NAKA           1356769.5  synthseg      Siemens\n",
       "NDARINVW26YNDL9           1570371.2  synthseg      Siemens\n",
       "NDARINVW2DZTWZ2           1547157.1  synthseg      Siemens\n",
       "NDARINVW2GVHACV           1585975.8  synthseg      Siemens\n",
       "...                             ...       ...          ...\n",
       "NDARINV1BR989ED           1319829.1  synthseg      Philips\n",
       "NDARINV1BTYWJDX           1534436.1  synthseg      Siemens\n",
       "NDARINV1BUXN6LH           1606058.8  synthseg      Siemens\n",
       "NDARINV1BZ0TUT9           1367924.6  synthseg      Siemens\n",
       "NDARINV1CC6HB4A           1530301.1  synthseg           GE\n",
       "\n",
       "[11402 rows x 3 columns]"
      ]
     },
     "execution_count": 34,
     "metadata": {},
     "output_type": "execute_result"
    }
   ],
   "source": [
    "df[df[\"source\"] == \"synthseg\"]"
   ]
  },
  {
   "cell_type": "code",
   "execution_count": 35,
   "id": "47c162d0",
   "metadata": {},
   "outputs": [
    {
     "ename": "NameError",
     "evalue": "name 'x1' is not defined",
     "output_type": "error",
     "traceback": [
      "\u001b[0;31m---------------------------------------------------------------------------\u001b[0m",
      "\u001b[0;31mNameError\u001b[0m                                 Traceback (most recent call last)",
      "\u001b[0;32m<ipython-input-35-52ec0d56cb7e>\u001b[0m in \u001b[0;36m<module>\u001b[0;34m\u001b[0m\n\u001b[1;32m     13\u001b[0m \u001b[0;34m\u001b[0m\u001b[0m\n\u001b[1;32m     14\u001b[0m plt.plot(\n\u001b[0;32m---> 15\u001b[0;31m     \u001b[0;34m[\u001b[0m\u001b[0;34m\"synthseg\"\u001b[0m\u001b[0;34m,\u001b[0m \u001b[0mx1\u001b[0m\u001b[0;34m,\u001b[0m \u001b[0mx2\u001b[0m\u001b[0;34m,\u001b[0m \u001b[0mx2\u001b[0m\u001b[0;34m]\u001b[0m\u001b[0;34m,\u001b[0m\u001b[0;34m\u001b[0m\u001b[0;34m\u001b[0m\u001b[0m\n\u001b[0m\u001b[1;32m     16\u001b[0m     \u001b[0;34m[\u001b[0m\u001b[0mbar_tips\u001b[0m\u001b[0;34m,\u001b[0m \u001b[0mbar_height\u001b[0m\u001b[0;34m,\u001b[0m \u001b[0mbar_height\u001b[0m\u001b[0;34m,\u001b[0m \u001b[0mbar_tips\u001b[0m\u001b[0;34m]\u001b[0m\u001b[0;34m,\u001b[0m \u001b[0mlw\u001b[0m\u001b[0;34m=\u001b[0m\u001b[0;36m1\u001b[0m\u001b[0;34m,\u001b[0m \u001b[0mc\u001b[0m\u001b[0;34m=\u001b[0m\u001b[0;34m'k'\u001b[0m\u001b[0;34m\u001b[0m\u001b[0;34m\u001b[0m\u001b[0m\n\u001b[1;32m     17\u001b[0m )\n",
      "\u001b[0;31mNameError\u001b[0m: name 'x1' is not defined"
     ]
    },
    {
     "data": {
      "image/png": "[encoded data removed]",
      "text/plain": [
       "<Figure size 864x504 with 1 Axes>"
      ]
     },
     "metadata": {},
     "output_type": "display_data"
    }
   ],
   "source": [
    "plt.figure(figsize=(12,7))\n",
    "\n",
    "\n",
    "sns.set_style(\"whitegrid\")\n",
    "sns.set_context(\"poster\") # paper, talk, notebook\n",
    "sns.set_palette(\"Set2\")\n",
    "\n",
    "fig = sns.boxplot(data=df, x=\"source\", y=\"total intracranial\")\n",
    "\n",
    "fig.set(title=\"Intracranial Volume By Method\")\n",
    "fig.set(xlabel='Segmentation Method', ylabel='total intracranial volume (mm$^3$)')\n",
    "fig.set_xticklabels([\"SynthSeg\", \"SynthSeg+QC\", \"FreeSurfer\"])\n",
    "\n",
    "plt.plot(\n",
    "    [\"synthseg\", x1, x2, x2],\n",
    "    [bar_tips, bar_height, bar_height, bar_tips], lw=1, c='k'\n",
    ")\n",
    "\n",
    "\n",
    "sns.despine()\n",
    "\n",
    "plt.savefig(\n",
    "    f\"{fig_dir}dataset_diff\" + \".eps\",\n",
    "    format=\"eps\",\n",
    ")"
   ]
  },
  {
   "cell_type": "code",
   "execution_count": null,
   "id": "dfc38f66",
   "metadata": {},
   "outputs": [
    {
     "data": {
      "text/plain": [
       "NDARINVW1J6282F    1527221.0\n",
       "NDARINVW1M7NAKA    1356769.5\n",
       "NDARINVW26YNDL9    1570371.2\n",
       "NDARINVW2DZTWZ2    1547157.1\n",
       "NDARINVW2GVHACV    1585975.8\n",
       "                     ...    \n",
       "NDARINV1BR989ED    1319829.1\n",
       "NDARINV1BTYWJDX    1534436.1\n",
       "NDARINV1BUXN6LH    1606058.8\n",
       "NDARINV1BZ0TUT9    1367924.6\n",
       "NDARINV1CC6HB4A    1530301.1\n",
       "Name: total intracranial, Length: 11402, dtype: float64"
      ]
     },
     "execution_count": 42,
     "metadata": {},
     "output_type": "execute_result"
    }
   ],
   "source": [
    "df[\"total intracranial\"][df[\"source\"] == \"synthseg\"]"
   ]
  },
  {
   "cell_type": "code",
   "execution_count": null,
   "id": "b06c04ae",
   "metadata": {},
   "outputs": [
    {
     "name": "stdout",
     "output_type": "stream",
     "text": [
      "0.0\n"
     ]
    }
   ],
   "source": [
    "# Assume both are normal bc N > 5000\n",
    "# Dependent\n",
    "from scipy import stats\n",
    "\n",
    "_, p = stats.ttest_rel(df[\"total intracranial\"][df[\"source\"] == \"synthseg\"], df[\"total intracranial\"][df[\"source\"] == \"freesurfer\"])\n",
    "\n",
    "print(p)"
   ]
  },
  {
   "cell_type": "code",
   "execution_count": null,
   "id": "99e027f6",
   "metadata": {},
   "outputs": [
    {
     "name": "stdout",
     "output_type": "stream",
     "text": [
      "0.0\n"
     ]
    }
   ],
   "source": [
    "_, p = stats.ttest_rel(df[\"total intracranial\"][df[\"source\"] == \"synthseg+qc\"], df[\"total intracranial\"][df[\"source\"] == \"freesurfer\"][:9306])\n",
    "\n",
    "print(p)"
   ]
  },
  {
   "cell_type": "code",
   "execution_count": null,
   "id": "d179a302",
   "metadata": {},
   "outputs": [
    {
     "data": {
      "text/plain": [
       "0.6703292059990911"
      ]
     },
     "execution_count": 52,
     "metadata": {},
     "output_type": "execute_result"
    }
   ],
   "source": [
    "_, p = stats.ttest_rel(df[\"total intracranial\"][df[\"source\"] == \"synthseg\"][:9306], df[\"total intracranial\"][df[\"source\"] == \"synthseg+qc\"])\n",
    "p"
   ]
  },
  {
   "cell_type": "code",
   "execution_count": null,
   "id": "5f333729",
   "metadata": {},
   "outputs": [],
   "source": []
  }
 ],
 "metadata": {
  "kernelspec": {
   "display_name": "Python 3 (ipykernel)",
   "language": "python",
   "name": "python3"
  },
  "language_info": {
   "codemirror_mode": {
    "name": "ipython",
    "version": 3
   },
   "file_extension": ".py",
   "mimetype": "text/x-python",
   "name": "python",
   "nbconvert_exporter": "python",
   "pygments_lexer": "ipython3",
   "version": "3.9.2"
  }
 },
 "nbformat": 4,
 "nbformat_minor": 5
}
