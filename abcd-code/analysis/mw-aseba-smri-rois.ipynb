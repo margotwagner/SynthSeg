{
 "cells": [
  {
   "cell_type": "code",
   "execution_count": 9,
   "id": "c095f49c",
   "metadata": {},
   "outputs": [],
   "source": [
    "from src.SynthSeg import SynthSeg\n",
    "from src.Labels import Labels\n",
    "from src.StatisticalAnalysis import StatisticalAnalysis"
   ]
  },
  {
   "cell_type": "code",
   "execution_count": 11,
   "id": "62493cd8",
   "metadata": {},
   "outputs": [],
   "source": [
    "# Get dataframes for each disorder\n",
    "adhd = Labels().adhd_df\n",
    "anx = Labels().anx_df\n",
    "conduct = Labels().conduct_df\n",
    "depr = Labels().depr_df\n",
    "opposit = Labels().opposit_df\n",
    "somaticpr = Labels().somaticpr_df"
   ]
  },
  {
   "cell_type": "code",
   "execution_count": 12,
   "metadata": {},
   "outputs": [
    {
     "name": "stdout",
     "output_type": "stream",
     "text": [
      "COUNTS\n",
      "Anxiety: \t 384\n",
      "ADHD: \t\t 348\n",
      "Conduct: \t 332\n",
      "Depression: \t 366\n",
      "Oppositional: \t 399\n",
      "Somatic: \t 465\n",
      "\n",
      "Control:\t 1485\n"
     ]
    }
   ],
   "source": [
    "print(\"COUNTS\")\n",
    "print(\"ADHD: \\t\\t\", adhd.value_counts()[1])\n",
    "print(\"Anxiety: \\t\", anx.value_counts()[1])\n",
    "print(\"Conduct: \\t\", conduct.value_counts()[1])\n",
    "print(\"Depression: \\t\", depr.value_counts()[1])\n",
    "print(\"Oppositional: \\t\", opposit.value_counts()[1])\n",
    "print(\"Somatic: \\t\", somaticpr.value_counts()[1])\n",
    "print()\n",
    "print(\"Control:\\t\", anx.value_counts()[0])"
   ]
  },
  {
   "cell_type": "code",
   "execution_count": 32,
   "metadata": {},
   "outputs": [],
   "source": [
    "def get_sig_rois(df):\n",
    "    synthseg = SynthSeg(\n",
    "        subjects=df.index,\n",
    "        run_qc=False,\n",
    "    )\n",
    "    synthseg_with_labels = synthseg.df.join(df)\n",
    "\n",
    "    synthseg_conditions = StatisticalAnalysis(\n",
    "        synthseg.df[synthseg_with_labels[df.name] == 0],\n",
    "        synthseg.df[synthseg_with_labels[df.name] == 1],\n",
    "        ind=True,\n",
    "        scale=False,\n",
    "    )\n",
    "\n",
    "    synthseg_sig_vols, synthseg_all_stats = synthseg_conditions.compare()\n",
    "\n",
    "    print(f\"Number of different regions in {df.name}: \\t {synthseg_sig_vols.shape[0]}\")\n",
    "\n",
    "    # synthseg_conditions.plot_hist(\"left hippocampus\")\n",
    "\n",
    "    return synthseg_sig_vols"
   ]
  },
  {
   "cell_type": "markdown",
   "metadata": {},
   "source": [
    "# ADHD"
   ]
  },
  {
   "cell_type": "code",
   "execution_count": 33,
   "metadata": {},
   "outputs": [
    {
     "name": "stdout",
     "output_type": "stream",
     "text": [
      "Number of different regions in adhd_dsm5: \t 9\n"
     ]
    },
    {
     "data": {
      "text/html": [
       "<div>\n",
       "<style scoped>\n",
       "    .dataframe tbody tr th:only-of-type {\n",
       "        vertical-align: middle;\n",
       "    }\n",
       "\n",
       "    .dataframe tbody tr th {\n",
       "        vertical-align: top;\n",
       "    }\n",
       "\n",
       "    .dataframe thead th {\n",
       "        text-align: right;\n",
       "    }\n",
       "</style>\n",
       "<table border=\"1\" class=\"dataframe\">\n",
       "  <thead>\n",
       "    <tr style=\"text-align: right;\">\n",
       "      <th></th>\n",
       "      <th>feature</th>\n",
       "      <th>p_value</th>\n",
       "    </tr>\n",
       "  </thead>\n",
       "  <tbody>\n",
       "    <tr>\n",
       "      <th>6</th>\n",
       "      <td>right hippocampus</td>\n",
       "      <td>0.003950</td>\n",
       "    </tr>\n",
       "    <tr>\n",
       "      <th>3</th>\n",
       "      <td>left hippocampus</td>\n",
       "      <td>0.004707</td>\n",
       "    </tr>\n",
       "    <tr>\n",
       "      <th>2</th>\n",
       "      <td>4th ventricle</td>\n",
       "      <td>0.018794</td>\n",
       "    </tr>\n",
       "    <tr>\n",
       "      <th>0</th>\n",
       "      <td>left cerebellum white matter</td>\n",
       "      <td>0.025467</td>\n",
       "    </tr>\n",
       "    <tr>\n",
       "      <th>1</th>\n",
       "      <td>left caudate</td>\n",
       "      <td>0.026993</td>\n",
       "    </tr>\n",
       "    <tr>\n",
       "      <th>5</th>\n",
       "      <td>right cerebellum white matter</td>\n",
       "      <td>0.044357</td>\n",
       "    </tr>\n",
       "    <tr>\n",
       "      <th>8</th>\n",
       "      <td>ctx-rh-supramarginal</td>\n",
       "      <td>0.046601</td>\n",
       "    </tr>\n",
       "    <tr>\n",
       "      <th>7</th>\n",
       "      <td>ctx-rh-postcentral</td>\n",
       "      <td>0.048491</td>\n",
       "    </tr>\n",
       "    <tr>\n",
       "      <th>4</th>\n",
       "      <td>right lateral ventricle</td>\n",
       "      <td>0.049848</td>\n",
       "    </tr>\n",
       "  </tbody>\n",
       "</table>\n",
       "</div>"
      ],
      "text/plain": [
       "                         feature   p_value\n",
       "6              right hippocampus  0.003950\n",
       "3               left hippocampus  0.004707\n",
       "2                  4th ventricle  0.018794\n",
       "0   left cerebellum white matter  0.025467\n",
       "1                   left caudate  0.026993\n",
       "5  right cerebellum white matter  0.044357\n",
       "8           ctx-rh-supramarginal  0.046601\n",
       "7             ctx-rh-postcentral  0.048491\n",
       "4        right lateral ventricle  0.049848"
      ]
     },
     "execution_count": 33,
     "metadata": {},
     "output_type": "execute_result"
    }
   ],
   "source": [
    "get_sig_rois(adhd)"
   ]
  },
  {
   "cell_type": "markdown",
   "metadata": {},
   "source": [
    "# Anxiety"
   ]
  },
  {
   "cell_type": "code",
   "execution_count": 34,
   "metadata": {},
   "outputs": [
    {
     "name": "stdout",
     "output_type": "stream",
     "text": [
      "Number of different regions in anxdisord_dsm5: \t 1\n"
     ]
    },
    {
     "data": {
      "text/html": [
       "<div>\n",
       "<style scoped>\n",
       "    .dataframe tbody tr th:only-of-type {\n",
       "        vertical-align: middle;\n",
       "    }\n",
       "\n",
       "    .dataframe tbody tr th {\n",
       "        vertical-align: top;\n",
       "    }\n",
       "\n",
       "    .dataframe thead th {\n",
       "        text-align: right;\n",
       "    }\n",
       "</style>\n",
       "<table border=\"1\" class=\"dataframe\">\n",
       "  <thead>\n",
       "    <tr style=\"text-align: right;\">\n",
       "      <th></th>\n",
       "      <th>feature</th>\n",
       "      <th>p_value</th>\n",
       "    </tr>\n",
       "  </thead>\n",
       "  <tbody>\n",
       "    <tr>\n",
       "      <th>0</th>\n",
       "      <td>ctx-rh-lateraloccipital</td>\n",
       "      <td>0.021867</td>\n",
       "    </tr>\n",
       "  </tbody>\n",
       "</table>\n",
       "</div>"
      ],
      "text/plain": [
       "                   feature   p_value\n",
       "0  ctx-rh-lateraloccipital  0.021867"
      ]
     },
     "execution_count": 34,
     "metadata": {},
     "output_type": "execute_result"
    }
   ],
   "source": [
    "get_sig_rois(anx)"
   ]
  },
  {
   "cell_type": "markdown",
   "metadata": {},
   "source": [
    "# Conduct disorder"
   ]
  },
  {
   "cell_type": "code",
   "execution_count": 35,
   "metadata": {},
   "outputs": [
    {
     "name": "stdout",
     "output_type": "stream",
     "text": [
      "Number of different regions in conduct_dsm5: \t 76\n"
     ]
    },
    {
     "data": {
      "text/html": [
       "<div>\n",
       "<style scoped>\n",
       "    .dataframe tbody tr th:only-of-type {\n",
       "        vertical-align: middle;\n",
       "    }\n",
       "\n",
       "    .dataframe tbody tr th {\n",
       "        vertical-align: top;\n",
       "    }\n",
       "\n",
       "    .dataframe thead th {\n",
       "        text-align: right;\n",
       "    }\n",
       "</style>\n",
       "<table border=\"1\" class=\"dataframe\">\n",
       "  <thead>\n",
       "    <tr style=\"text-align: right;\">\n",
       "      <th></th>\n",
       "      <th>feature</th>\n",
       "      <th>p_value</th>\n",
       "    </tr>\n",
       "  </thead>\n",
       "  <tbody>\n",
       "    <tr>\n",
       "      <th>23</th>\n",
       "      <td>right hippocampus</td>\n",
       "      <td>5.938614e-07</td>\n",
       "    </tr>\n",
       "    <tr>\n",
       "      <th>11</th>\n",
       "      <td>left hippocampus</td>\n",
       "      <td>2.718523e-06</td>\n",
       "    </tr>\n",
       "    <tr>\n",
       "      <th>48</th>\n",
       "      <td>ctx-lh-supramarginal</td>\n",
       "      <td>5.301018e-06</td>\n",
       "    </tr>\n",
       "    <tr>\n",
       "      <th>2</th>\n",
       "      <td>left cerebral cortex</td>\n",
       "      <td>6.777109e-06</td>\n",
       "    </tr>\n",
       "    <tr>\n",
       "      <th>17</th>\n",
       "      <td>right cerebral cortex</td>\n",
       "      <td>1.219775e-05</td>\n",
       "    </tr>\n",
       "    <tr>\n",
       "      <th>...</th>\n",
       "      <td>...</td>\n",
       "      <td>...</td>\n",
       "    </tr>\n",
       "    <tr>\n",
       "      <th>60</th>\n",
       "      <td>ctx-rh-parahippocampal</td>\n",
       "      <td>3.425755e-02</td>\n",
       "    </tr>\n",
       "    <tr>\n",
       "      <th>27</th>\n",
       "      <td>ctx-lh-caudalanteriorcingulate</td>\n",
       "      <td>3.824170e-02</td>\n",
       "    </tr>\n",
       "    <tr>\n",
       "      <th>57</th>\n",
       "      <td>ctx-rh-lingual</td>\n",
       "      <td>3.870518e-02</td>\n",
       "    </tr>\n",
       "    <tr>\n",
       "      <th>5</th>\n",
       "      <td>left cerebellum cortex</td>\n",
       "      <td>4.387485e-02</td>\n",
       "    </tr>\n",
       "    <tr>\n",
       "      <th>34</th>\n",
       "      <td>ctx-lh-medialorbitofrontal</td>\n",
       "      <td>4.935839e-02</td>\n",
       "    </tr>\n",
       "  </tbody>\n",
       "</table>\n",
       "<p>76 rows × 2 columns</p>\n",
       "</div>"
      ],
      "text/plain": [
       "                           feature       p_value\n",
       "23               right hippocampus  5.938614e-07\n",
       "11                left hippocampus  2.718523e-06\n",
       "48            ctx-lh-supramarginal  5.301018e-06\n",
       "2             left cerebral cortex  6.777109e-06\n",
       "17           right cerebral cortex  1.219775e-05\n",
       "..                             ...           ...\n",
       "60          ctx-rh-parahippocampal  3.425755e-02\n",
       "27  ctx-lh-caudalanteriorcingulate  3.824170e-02\n",
       "57                  ctx-rh-lingual  3.870518e-02\n",
       "5           left cerebellum cortex  4.387485e-02\n",
       "34      ctx-lh-medialorbitofrontal  4.935839e-02\n",
       "\n",
       "[76 rows x 2 columns]"
      ]
     },
     "execution_count": 35,
     "metadata": {},
     "output_type": "execute_result"
    }
   ],
   "source": [
    "get_sig_rois(conduct)"
   ]
  },
  {
   "cell_type": "markdown",
   "metadata": {},
   "source": [
    "# Depression"
   ]
  },
  {
   "cell_type": "code",
   "execution_count": 36,
   "metadata": {},
   "outputs": [
    {
     "name": "stdout",
     "output_type": "stream",
     "text": [
      "Number of different regions in depress_dsm5: \t 13\n"
     ]
    },
    {
     "data": {
      "text/html": [
       "<div>\n",
       "<style scoped>\n",
       "    .dataframe tbody tr th:only-of-type {\n",
       "        vertical-align: middle;\n",
       "    }\n",
       "\n",
       "    .dataframe tbody tr th {\n",
       "        vertical-align: top;\n",
       "    }\n",
       "\n",
       "    .dataframe thead th {\n",
       "        text-align: right;\n",
       "    }\n",
       "</style>\n",
       "<table border=\"1\" class=\"dataframe\">\n",
       "  <thead>\n",
       "    <tr style=\"text-align: right;\">\n",
       "      <th></th>\n",
       "      <th>feature</th>\n",
       "      <th>p_value</th>\n",
       "    </tr>\n",
       "  </thead>\n",
       "  <tbody>\n",
       "    <tr>\n",
       "      <th>9</th>\n",
       "      <td>ctx-rh-postcentral</td>\n",
       "      <td>0.000340</td>\n",
       "    </tr>\n",
       "    <tr>\n",
       "      <th>7</th>\n",
       "      <td>ctx-lh-postcentral</td>\n",
       "      <td>0.001333</td>\n",
       "    </tr>\n",
       "    <tr>\n",
       "      <th>10</th>\n",
       "      <td>ctx-rh-precentral</td>\n",
       "      <td>0.008481</td>\n",
       "    </tr>\n",
       "    <tr>\n",
       "      <th>12</th>\n",
       "      <td>ctx-rh-supramarginal</td>\n",
       "      <td>0.012525</td>\n",
       "    </tr>\n",
       "    <tr>\n",
       "      <th>4</th>\n",
       "      <td>right cerebellum white matter</td>\n",
       "      <td>0.015554</td>\n",
       "    </tr>\n",
       "    <tr>\n",
       "      <th>11</th>\n",
       "      <td>ctx-rh-superiortemporal</td>\n",
       "      <td>0.017403</td>\n",
       "    </tr>\n",
       "    <tr>\n",
       "      <th>0</th>\n",
       "      <td>left cerebral cortex</td>\n",
       "      <td>0.024253</td>\n",
       "    </tr>\n",
       "    <tr>\n",
       "      <th>3</th>\n",
       "      <td>right cerebral cortex</td>\n",
       "      <td>0.025224</td>\n",
       "    </tr>\n",
       "    <tr>\n",
       "      <th>2</th>\n",
       "      <td>left caudate</td>\n",
       "      <td>0.026783</td>\n",
       "    </tr>\n",
       "    <tr>\n",
       "      <th>5</th>\n",
       "      <td>ctx-lh-inferiorparietal</td>\n",
       "      <td>0.035804</td>\n",
       "    </tr>\n",
       "    <tr>\n",
       "      <th>8</th>\n",
       "      <td>ctx-lh-precentral</td>\n",
       "      <td>0.036225</td>\n",
       "    </tr>\n",
       "    <tr>\n",
       "      <th>6</th>\n",
       "      <td>ctx-lh-paracentral</td>\n",
       "      <td>0.040014</td>\n",
       "    </tr>\n",
       "    <tr>\n",
       "      <th>1</th>\n",
       "      <td>left thalamus</td>\n",
       "      <td>0.040181</td>\n",
       "    </tr>\n",
       "  </tbody>\n",
       "</table>\n",
       "</div>"
      ],
      "text/plain": [
       "                          feature   p_value\n",
       "9              ctx-rh-postcentral  0.000340\n",
       "7              ctx-lh-postcentral  0.001333\n",
       "10              ctx-rh-precentral  0.008481\n",
       "12           ctx-rh-supramarginal  0.012525\n",
       "4   right cerebellum white matter  0.015554\n",
       "11        ctx-rh-superiortemporal  0.017403\n",
       "0            left cerebral cortex  0.024253\n",
       "3           right cerebral cortex  0.025224\n",
       "2                    left caudate  0.026783\n",
       "5         ctx-lh-inferiorparietal  0.035804\n",
       "8               ctx-lh-precentral  0.036225\n",
       "6              ctx-lh-paracentral  0.040014\n",
       "1                   left thalamus  0.040181"
      ]
     },
     "execution_count": 36,
     "metadata": {},
     "output_type": "execute_result"
    }
   ],
   "source": [
    "get_sig_rois(depr)"
   ]
  },
  {
   "cell_type": "markdown",
   "metadata": {},
   "source": [
    "# Opposition"
   ]
  },
  {
   "cell_type": "code",
   "execution_count": 37,
   "metadata": {},
   "outputs": [
    {
     "name": "stdout",
     "output_type": "stream",
     "text": [
      "Number of different regions in opposit_dsm5: \t 13\n"
     ]
    },
    {
     "data": {
      "text/html": [
       "<div>\n",
       "<style scoped>\n",
       "    .dataframe tbody tr th:only-of-type {\n",
       "        vertical-align: middle;\n",
       "    }\n",
       "\n",
       "    .dataframe tbody tr th {\n",
       "        vertical-align: top;\n",
       "    }\n",
       "\n",
       "    .dataframe thead th {\n",
       "        text-align: right;\n",
       "    }\n",
       "</style>\n",
       "<table border=\"1\" class=\"dataframe\">\n",
       "  <thead>\n",
       "    <tr style=\"text-align: right;\">\n",
       "      <th></th>\n",
       "      <th>feature</th>\n",
       "      <th>p_value</th>\n",
       "    </tr>\n",
       "  </thead>\n",
       "  <tbody>\n",
       "    <tr>\n",
       "      <th>8</th>\n",
       "      <td>ctx-rh-parstriangularis</td>\n",
       "      <td>0.006696</td>\n",
       "    </tr>\n",
       "    <tr>\n",
       "      <th>0</th>\n",
       "      <td>left lateral ventricle</td>\n",
       "      <td>0.018160</td>\n",
       "    </tr>\n",
       "    <tr>\n",
       "      <th>7</th>\n",
       "      <td>ctx-rh-lateraloccipital</td>\n",
       "      <td>0.018498</td>\n",
       "    </tr>\n",
       "    <tr>\n",
       "      <th>9</th>\n",
       "      <td>ctx-rh-pericalcarine</td>\n",
       "      <td>0.022895</td>\n",
       "    </tr>\n",
       "    <tr>\n",
       "      <th>5</th>\n",
       "      <td>ctx-lh-isthmuscingulate</td>\n",
       "      <td>0.026769</td>\n",
       "    </tr>\n",
       "    <tr>\n",
       "      <th>6</th>\n",
       "      <td>ctx-lh-parsorbitalis</td>\n",
       "      <td>0.028020</td>\n",
       "    </tr>\n",
       "    <tr>\n",
       "      <th>3</th>\n",
       "      <td>right lateral ventricle</td>\n",
       "      <td>0.035474</td>\n",
       "    </tr>\n",
       "    <tr>\n",
       "      <th>11</th>\n",
       "      <td>ctx-rh-temporalpole</td>\n",
       "      <td>0.043739</td>\n",
       "    </tr>\n",
       "    <tr>\n",
       "      <th>10</th>\n",
       "      <td>ctx-rh-frontalpole</td>\n",
       "      <td>0.043962</td>\n",
       "    </tr>\n",
       "    <tr>\n",
       "      <th>12</th>\n",
       "      <td>ctx-rh-transversetemporal</td>\n",
       "      <td>0.044458</td>\n",
       "    </tr>\n",
       "    <tr>\n",
       "      <th>1</th>\n",
       "      <td>left putamen</td>\n",
       "      <td>0.045630</td>\n",
       "    </tr>\n",
       "    <tr>\n",
       "      <th>2</th>\n",
       "      <td>3rd ventricle</td>\n",
       "      <td>0.048920</td>\n",
       "    </tr>\n",
       "    <tr>\n",
       "      <th>4</th>\n",
       "      <td>right putamen</td>\n",
       "      <td>0.049951</td>\n",
       "    </tr>\n",
       "  </tbody>\n",
       "</table>\n",
       "</div>"
      ],
      "text/plain": [
       "                      feature   p_value\n",
       "8     ctx-rh-parstriangularis  0.006696\n",
       "0      left lateral ventricle  0.018160\n",
       "7     ctx-rh-lateraloccipital  0.018498\n",
       "9        ctx-rh-pericalcarine  0.022895\n",
       "5     ctx-lh-isthmuscingulate  0.026769\n",
       "6        ctx-lh-parsorbitalis  0.028020\n",
       "3     right lateral ventricle  0.035474\n",
       "11        ctx-rh-temporalpole  0.043739\n",
       "10         ctx-rh-frontalpole  0.043962\n",
       "12  ctx-rh-transversetemporal  0.044458\n",
       "1                left putamen  0.045630\n",
       "2               3rd ventricle  0.048920\n",
       "4               right putamen  0.049951"
      ]
     },
     "execution_count": 37,
     "metadata": {},
     "output_type": "execute_result"
    }
   ],
   "source": [
    "get_sig_rois(opposit)"
   ]
  },
  {
   "cell_type": "markdown",
   "metadata": {},
   "source": [
    "# Somatic"
   ]
  },
  {
   "cell_type": "code",
   "execution_count": 38,
   "metadata": {},
   "outputs": [
    {
     "name": "stdout",
     "output_type": "stream",
     "text": [
      "Number of different regions in somaticpr_dsm5: \t 0\n"
     ]
    },
    {
     "data": {
      "text/html": [
       "<div>\n",
       "<style scoped>\n",
       "    .dataframe tbody tr th:only-of-type {\n",
       "        vertical-align: middle;\n",
       "    }\n",
       "\n",
       "    .dataframe tbody tr th {\n",
       "        vertical-align: top;\n",
       "    }\n",
       "\n",
       "    .dataframe thead th {\n",
       "        text-align: right;\n",
       "    }\n",
       "</style>\n",
       "<table border=\"1\" class=\"dataframe\">\n",
       "  <thead>\n",
       "    <tr style=\"text-align: right;\">\n",
       "      <th></th>\n",
       "      <th>feature</th>\n",
       "      <th>p_value</th>\n",
       "    </tr>\n",
       "  </thead>\n",
       "  <tbody>\n",
       "  </tbody>\n",
       "</table>\n",
       "</div>"
      ],
      "text/plain": [
       "Empty DataFrame\n",
       "Columns: [feature, p_value]\n",
       "Index: []"
      ]
     },
     "execution_count": 38,
     "metadata": {},
     "output_type": "execute_result"
    }
   ],
   "source": [
    "get_sig_rois(somaticpr)"
   ]
  }
 ],
 "metadata": {
  "kernelspec": {
   "display_name": "Python 3 (ipykernel)",
   "language": "python",
   "name": "python3"
  },
  "language_info": {
   "codemirror_mode": {
    "name": "ipython",
    "version": 3
   },
   "file_extension": ".py",
   "mimetype": "text/x-python",
   "name": "python",
   "nbconvert_exporter": "python",
   "pygments_lexer": "ipython3",
   "version": "3.9.2"
  }
 },
 "nbformat": 4,
 "nbformat_minor": 5
}
