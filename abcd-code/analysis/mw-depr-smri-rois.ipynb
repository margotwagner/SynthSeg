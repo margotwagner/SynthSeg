{
 "cells": [
  {
   "cell_type": "code",
   "execution_count": 1,
   "id": "c095f49c",
   "metadata": {},
   "outputs": [],
   "source": [
    "from src.SynthSeg import SynthSeg\n",
    "from src.Labels import Labels\n",
    "from src.ABCD import ABCD\n",
    "from src.StatisticalAnalysis import StatisticalAnalysis\n",
    "import pandas as pd"
   ]
  },
  {
   "attachments": {},
   "cell_type": "markdown",
   "id": "b5800c82",
   "metadata": {},
   "source": [
    "#### Labels"
   ]
  },
  {
   "cell_type": "code",
   "execution_count": 2,
   "id": "62493cd8",
   "metadata": {},
   "outputs": [],
   "source": [
    "labels = Labels().df"
   ]
  },
  {
   "attachments": {},
   "cell_type": "markdown",
   "id": "4c75f8b5",
   "metadata": {},
   "source": [
    "#### Subset Datasets"
   ]
  },
  {
   "attachments": {},
   "cell_type": "markdown",
   "id": "0765b245",
   "metadata": {},
   "source": [
    "SynthSeg (subset)"
   ]
  },
  {
   "cell_type": "code",
   "execution_count": 3,
   "id": "23eb5636",
   "metadata": {},
   "outputs": [
    {
     "data": {
      "text/plain": [
       "(1782, 101)"
      ]
     },
     "execution_count": 3,
     "metadata": {},
     "output_type": "execute_result"
    }
   ],
   "source": [
    "synthseg = SynthSeg(\n",
    "    subjects=labels.index,\n",
    "    run_qc=True,\n",
    "    run_qc_min_score=0.65,\n",
    "    run_qc_max_failed_regions=1\n",
    "    )\n",
    "\n",
    "synthseg.df.shape"
   ]
  },
  {
   "cell_type": "code",
   "execution_count": 4,
   "id": "206bf137",
   "metadata": {},
   "outputs": [
    {
     "data": {
      "text/plain": [
       "(1430, 101)"
      ]
     },
     "execution_count": 4,
     "metadata": {},
     "output_type": "execute_result"
    }
   ],
   "source": [
    "synthseg.qc_df.shape"
   ]
  },
  {
   "attachments": {},
   "cell_type": "markdown",
   "id": "ffba2467",
   "metadata": {},
   "source": [
    "ABCD (subset) + QC"
   ]
  },
  {
   "cell_type": "code",
   "execution_count": 5,
   "id": "d18c293b",
   "metadata": {},
   "outputs": [
    {
     "data": {
      "text/plain": [
       "(1782, 101)"
      ]
     },
     "execution_count": 5,
     "metadata": {},
     "output_type": "execute_result"
    }
   ],
   "source": [
    "abcd = ABCD(synthseg.df.index)\n",
    "abcd.df = abcd.match_synthseg_regions(synthseg.df)\n",
    "abcd.df.shape"
   ]
  },
  {
   "attachments": {},
   "cell_type": "markdown",
   "id": "edfe7bc9",
   "metadata": {},
   "source": [
    "# Depression"
   ]
  },
  {
   "attachments": {},
   "cell_type": "markdown",
   "id": "51b4a06b",
   "metadata": {},
   "source": [
    "## SynthSeg depressed vs control"
   ]
  },
  {
   "cell_type": "code",
   "execution_count": 6,
   "id": "60d3ccde",
   "metadata": {},
   "outputs": [],
   "source": [
    "# Create overall df\n",
    "synthseg_with_labels = synthseg.df.join(labels)"
   ]
  },
  {
   "cell_type": "code",
   "execution_count": 7,
   "id": "806d071d",
   "metadata": {},
   "outputs": [
    {
     "data": {
      "text/html": [
       "<div>\n",
       "<style scoped>\n",
       "    .dataframe tbody tr th:only-of-type {\n",
       "        vertical-align: middle;\n",
       "    }\n",
       "\n",
       "    .dataframe tbody tr th {\n",
       "        vertical-align: top;\n",
       "    }\n",
       "\n",
       "    .dataframe thead th {\n",
       "        text-align: right;\n",
       "    }\n",
       "</style>\n",
       "<table border=\"1\" class=\"dataframe\">\n",
       "  <thead>\n",
       "    <tr style=\"text-align: right;\">\n",
       "      <th></th>\n",
       "      <th>feature</th>\n",
       "      <th>p_value</th>\n",
       "    </tr>\n",
       "  </thead>\n",
       "  <tbody>\n",
       "    <tr>\n",
       "      <th>4</th>\n",
       "      <td>ctx-rh-postcentral</td>\n",
       "      <td>0.003214</td>\n",
       "    </tr>\n",
       "    <tr>\n",
       "      <th>3</th>\n",
       "      <td>ctx-lh-postcentral</td>\n",
       "      <td>0.007333</td>\n",
       "    </tr>\n",
       "    <tr>\n",
       "      <th>6</th>\n",
       "      <td>ctx-rh-supramarginal</td>\n",
       "      <td>0.020202</td>\n",
       "    </tr>\n",
       "    <tr>\n",
       "      <th>2</th>\n",
       "      <td>right cerebellum white matter</td>\n",
       "      <td>0.027419</td>\n",
       "    </tr>\n",
       "    <tr>\n",
       "      <th>5</th>\n",
       "      <td>ctx-rh-precentral</td>\n",
       "      <td>0.029681</td>\n",
       "    </tr>\n",
       "    <tr>\n",
       "      <th>0</th>\n",
       "      <td>left caudate</td>\n",
       "      <td>0.034681</td>\n",
       "    </tr>\n",
       "    <tr>\n",
       "      <th>1</th>\n",
       "      <td>left hippocampus</td>\n",
       "      <td>0.048953</td>\n",
       "    </tr>\n",
       "  </tbody>\n",
       "</table>\n",
       "</div>"
      ],
      "text/plain": [
       "                         feature   p_value\n",
       "4             ctx-rh-postcentral  0.003214\n",
       "3             ctx-lh-postcentral  0.007333\n",
       "6           ctx-rh-supramarginal  0.020202\n",
       "2  right cerebellum white matter  0.027419\n",
       "5              ctx-rh-precentral  0.029681\n",
       "0                   left caudate  0.034681\n",
       "1               left hippocampus  0.048953"
      ]
     },
     "execution_count": 7,
     "metadata": {},
     "output_type": "execute_result"
    }
   ],
   "source": [
    "synthseg_conditions = StatisticalAnalysis(\n",
    "    synthseg.df[synthseg_with_labels[\"depress_dsm5\"] == 0],\n",
    "    synthseg.df[synthseg_with_labels[\"depress_dsm5\"] == 1],\n",
    "    ind=True,\n",
    ")\n",
    "synthseg_sig_vols, synthseg_all_stats = synthseg_conditions.compare()\n",
    "\n",
    "synthseg_sig_vols"
   ]
  },
  {
   "cell_type": "code",
   "execution_count": 24,
   "id": "3196d409",
   "metadata": {},
   "outputs": [
    {
     "name": "stdout",
     "output_type": "stream",
     "text": [
      "ROI: ctx-rh-postcentral\n",
      "Control: 8662\n",
      "Depressed: 8411\n",
      "\n",
      "ROI: ctx-lh-postcentral\n",
      "Control: 8468\n",
      "Depressed: 8243\n",
      "\n",
      "ROI: ctx-rh-supramarginal\n",
      "Control: 9845\n",
      "Depressed: 9649\n",
      "\n",
      "ROI: right cerebellum white matter\n",
      "Control: 13244\n",
      "Depressed: 13020\n",
      "\n",
      "ROI: ctx-rh-precentral\n",
      "Control: 10467\n",
      "Depressed: 10248\n",
      "\n",
      "ROI: left caudate\n",
      "Control: 4288\n",
      "Depressed: 4223\n",
      "\n",
      "ROI: left hippocampus\n",
      "Control: 4004\n",
      "Depressed: 3962\n",
      "\n"
     ]
    }
   ],
   "source": [
    "for f in synthseg_sig_vols[\"feature\"]:\n",
    "    print(\"ROI:\", f)\n",
    "    print(\"Control:\", round(synthseg.df[synthseg_with_labels[\"depress_dsm5\"] == 0][f].mean()))\n",
    "    print(\"Depressed:\", round(synthseg.df[synthseg_with_labels[\"depress_dsm5\"] == 1][f].mean()))\n",
    "    print()"
   ]
  },
  {
   "cell_type": "code",
   "execution_count": 10,
   "id": "4ea80104",
   "metadata": {},
   "outputs": [
    {
     "name": "stderr",
     "output_type": "stream",
     "text": [
      "/nadata/cnl/home/mwagner/projects/SynthSeg/abcd-code/analysis/src/StatisticalAnalysis.py:96: SettingWithCopyWarning: \n",
      "A value is trying to be set on a copy of a slice from a DataFrame.\n",
      "Try using .loc[row_indexer,col_indexer] = value instead\n",
      "\n",
      "See the caveats in the documentation: https://pandas.pydata.org/pandas-docs/stable/user_guide/indexing.html#returning-a-view-versus-a-copy\n",
      "  self.dataset_1[\"dataset\"] = self.dataset_names[0]\n",
      "/nadata/cnl/home/mwagner/projects/SynthSeg/abcd-code/analysis/src/StatisticalAnalysis.py:97: SettingWithCopyWarning: \n",
      "A value is trying to be set on a copy of a slice from a DataFrame.\n",
      "Try using .loc[row_indexer,col_indexer] = value instead\n",
      "\n",
      "See the caveats in the documentation: https://pandas.pydata.org/pandas-docs/stable/user_guide/indexing.html#returning-a-view-versus-a-copy\n",
      "  self.dataset_2[\"dataset\"] = self.dataset_names[1]\n",
      "/nadata/cnl/home/mwagner/projects/SynthSeg/abcd-code/analysis/src/StatisticalAnalysis.py:96: SettingWithCopyWarning: \n",
      "A value is trying to be set on a copy of a slice from a DataFrame.\n",
      "Try using .loc[row_indexer,col_indexer] = value instead\n",
      "\n",
      "See the caveats in the documentation: https://pandas.pydata.org/pandas-docs/stable/user_guide/indexing.html#returning-a-view-versus-a-copy\n",
      "  self.dataset_1[\"dataset\"] = self.dataset_names[0]\n",
      "/nadata/cnl/home/mwagner/projects/SynthSeg/abcd-code/analysis/src/StatisticalAnalysis.py:97: SettingWithCopyWarning: \n",
      "A value is trying to be set on a copy of a slice from a DataFrame.\n",
      "Try using .loc[row_indexer,col_indexer] = value instead\n",
      "\n",
      "See the caveats in the documentation: https://pandas.pydata.org/pandas-docs/stable/user_guide/indexing.html#returning-a-view-versus-a-copy\n",
      "  self.dataset_2[\"dataset\"] = self.dataset_names[1]\n",
      "/nadata/cnl/home/mwagner/projects/SynthSeg/abcd-code/analysis/src/StatisticalAnalysis.py:96: SettingWithCopyWarning: \n",
      "A value is trying to be set on a copy of a slice from a DataFrame.\n",
      "Try using .loc[row_indexer,col_indexer] = value instead\n",
      "\n",
      "See the caveats in the documentation: https://pandas.pydata.org/pandas-docs/stable/user_guide/indexing.html#returning-a-view-versus-a-copy\n",
      "  self.dataset_1[\"dataset\"] = self.dataset_names[0]\n",
      "/nadata/cnl/home/mwagner/projects/SynthSeg/abcd-code/analysis/src/StatisticalAnalysis.py:97: SettingWithCopyWarning: \n",
      "A value is trying to be set on a copy of a slice from a DataFrame.\n",
      "Try using .loc[row_indexer,col_indexer] = value instead\n",
      "\n",
      "See the caveats in the documentation: https://pandas.pydata.org/pandas-docs/stable/user_guide/indexing.html#returning-a-view-versus-a-copy\n",
      "  self.dataset_2[\"dataset\"] = self.dataset_names[1]\n",
      "/nadata/cnl/home/mwagner/projects/SynthSeg/abcd-code/analysis/src/StatisticalAnalysis.py:96: SettingWithCopyWarning: \n",
      "A value is trying to be set on a copy of a slice from a DataFrame.\n",
      "Try using .loc[row_indexer,col_indexer] = value instead\n",
      "\n",
      "See the caveats in the documentation: https://pandas.pydata.org/pandas-docs/stable/user_guide/indexing.html#returning-a-view-versus-a-copy\n",
      "  self.dataset_1[\"dataset\"] = self.dataset_names[0]\n",
      "/nadata/cnl/home/mwagner/projects/SynthSeg/abcd-code/analysis/src/StatisticalAnalysis.py:97: SettingWithCopyWarning: \n",
      "A value is trying to be set on a copy of a slice from a DataFrame.\n",
      "Try using .loc[row_indexer,col_indexer] = value instead\n",
      "\n",
      "See the caveats in the documentation: https://pandas.pydata.org/pandas-docs/stable/user_guide/indexing.html#returning-a-view-versus-a-copy\n",
      "  self.dataset_2[\"dataset\"] = self.dataset_names[1]\n",
      "/nadata/cnl/home/mwagner/projects/SynthSeg/abcd-code/analysis/src/StatisticalAnalysis.py:96: SettingWithCopyWarning: \n",
      "A value is trying to be set on a copy of a slice from a DataFrame.\n",
      "Try using .loc[row_indexer,col_indexer] = value instead\n",
      "\n",
      "See the caveats in the documentation: https://pandas.pydata.org/pandas-docs/stable/user_guide/indexing.html#returning-a-view-versus-a-copy\n",
      "  self.dataset_1[\"dataset\"] = self.dataset_names[0]\n",
      "/nadata/cnl/home/mwagner/projects/SynthSeg/abcd-code/analysis/src/StatisticalAnalysis.py:97: SettingWithCopyWarning: \n",
      "A value is trying to be set on a copy of a slice from a DataFrame.\n",
      "Try using .loc[row_indexer,col_indexer] = value instead\n",
      "\n",
      "See the caveats in the documentation: https://pandas.pydata.org/pandas-docs/stable/user_guide/indexing.html#returning-a-view-versus-a-copy\n",
      "  self.dataset_2[\"dataset\"] = self.dataset_names[1]\n",
      "/nadata/cnl/home/mwagner/projects/SynthSeg/abcd-code/analysis/src/StatisticalAnalysis.py:96: SettingWithCopyWarning: \n",
      "A value is trying to be set on a copy of a slice from a DataFrame.\n",
      "Try using .loc[row_indexer,col_indexer] = value instead\n",
      "\n",
      "See the caveats in the documentation: https://pandas.pydata.org/pandas-docs/stable/user_guide/indexing.html#returning-a-view-versus-a-copy\n",
      "  self.dataset_1[\"dataset\"] = self.dataset_names[0]\n",
      "/nadata/cnl/home/mwagner/projects/SynthSeg/abcd-code/analysis/src/StatisticalAnalysis.py:97: SettingWithCopyWarning: \n",
      "A value is trying to be set on a copy of a slice from a DataFrame.\n",
      "Try using .loc[row_indexer,col_indexer] = value instead\n",
      "\n",
      "See the caveats in the documentation: https://pandas.pydata.org/pandas-docs/stable/user_guide/indexing.html#returning-a-view-versus-a-copy\n",
      "  self.dataset_2[\"dataset\"] = self.dataset_names[1]\n",
      "/nadata/cnl/home/mwagner/projects/SynthSeg/abcd-code/analysis/src/StatisticalAnalysis.py:96: SettingWithCopyWarning: \n",
      "A value is trying to be set on a copy of a slice from a DataFrame.\n",
      "Try using .loc[row_indexer,col_indexer] = value instead\n",
      "\n",
      "See the caveats in the documentation: https://pandas.pydata.org/pandas-docs/stable/user_guide/indexing.html#returning-a-view-versus-a-copy\n",
      "  self.dataset_1[\"dataset\"] = self.dataset_names[0]\n",
      "/nadata/cnl/home/mwagner/projects/SynthSeg/abcd-code/analysis/src/StatisticalAnalysis.py:97: SettingWithCopyWarning: \n",
      "A value is trying to be set on a copy of a slice from a DataFrame.\n",
      "Try using .loc[row_indexer,col_indexer] = value instead\n",
      "\n",
      "See the caveats in the documentation: https://pandas.pydata.org/pandas-docs/stable/user_guide/indexing.html#returning-a-view-versus-a-copy\n",
      "  self.dataset_2[\"dataset\"] = self.dataset_names[1]\n"
     ]
    },
    {
     "data": {
      "image/png": "[encoded data removed]",
      "text/plain": [
       "<Figure size 720x360 with 1 Axes>"
      ]
     },
     "metadata": {
      "needs_background": "light"
     },
     "output_type": "display_data"
    },
    {
     "data": {
      "image/png": "[encoded data removed]",
      "text/plain": [
       "<Figure size 720x360 with 1 Axes>"
      ]
     },
     "metadata": {
      "needs_background": "light"
     },
     "output_type": "display_data"
    },
    {
     "data": {
      "image/png": "[encoded data removed]",
      "text/plain": [
       "<Figure size 720x360 with 1 Axes>"
      ]
     },
     "metadata": {
      "needs_background": "light"
     },
     "output_type": "display_data"
    },
    {
     "data": {
      "image/png": "[encoded data removed]",
      "text/plain": [
       "<Figure size 720x360 with 1 Axes>"
      ]
     },
     "metadata": {
      "needs_background": "light"
     },
     "output_type": "display_data"
    },
    {
     "data": {
      "image/png": "[encoded data removed]",
      "text/plain": [
       "<Figure size 720x360 with 1 Axes>"
      ]
     },
     "metadata": {
      "needs_background": "light"
     },
     "output_type": "display_data"
    },
    {
     "data": {
      "image/png": "[encoded data removed]",
      "text/plain": [
       "<Figure size 720x360 with 1 Axes>"
      ]
     },
     "metadata": {
      "needs_background": "light"
     },
     "output_type": "display_data"
    },
    {
     "data": {
      "image/png": "[encoded data removed]",
      "text/plain": [
       "<Figure size 720x360 with 1 Axes>"
      ]
     },
     "metadata": {
      "needs_background": "light"
     },
     "output_type": "display_data"
    }
   ],
   "source": [
    "for f in synthseg_sig_vols[\"feature\"]:\n",
    "    synthseg_conditions.plot_feat(f)"
   ]
  },
  {
   "cell_type": "code",
   "execution_count": 31,
   "id": "b8aecb39",
   "metadata": {},
   "outputs": [
    {
     "data": {
      "image/png": "[encoded data removed]",
      "text/plain": [
       "<Figure size 432x288 with 1 Axes>"
      ]
     },
     "metadata": {
      "needs_background": "light"
     },
     "output_type": "display_data"
    }
   ],
   "source": [
    "import matplotlib.pyplot as plt\n",
    "import seaborn as sns\n",
    "\n",
    "# add stripplot\n",
    "ax = sns.stripplot(x='depress_dsm5', y='ctx-rh-postcentral', data=synthseg_with_labels, color=\"orange\", jitter=0.2, size=2.5)\n",
    "\n",
    "# boxplot\n",
    "ax = sns.boxplot(x='depress_dsm5', y='ctx-rh-postcentral', data=synthseg_with_labels)\n",
    "\n",
    "# add title\n",
    "plt.title(\"Boxplot with jitter\", loc=\"left\")\n",
    "\n",
    "# show the graph\n",
    "plt.show()"
   ]
  },
  {
   "cell_type": "code",
   "execution_count": null,
   "id": "2d4f3f5b",
   "metadata": {},
   "outputs": [],
   "source": [
    "def plot_roi(roi):\n",
    "    "
   ]
  },
  {
   "cell_type": "code",
   "execution_count": 13,
   "id": "167e982c",
   "metadata": {},
   "outputs": [
    {
     "data": {
      "text/plain": [
       "8661.901494051786"
      ]
     },
     "execution_count": 13,
     "metadata": {},
     "output_type": "execute_result"
    }
   ],
   "source": [
    "synthseg.df[synthseg_with_labels[\"depress_dsm5\"] == 0][\"ctx-rh-postcentral\"].mean()"
   ]
  },
  {
   "attachments": {},
   "cell_type": "markdown",
   "id": "debc668e",
   "metadata": {},
   "source": [
    "## SynthSeg (with qc) depressed vs control"
   ]
  },
  {
   "cell_type": "code",
   "execution_count": 8,
   "id": "a3c23208",
   "metadata": {},
   "outputs": [],
   "source": [
    "# Create overall df\n",
    "synthseg_qc_with_labels = synthseg.qc_df.join(labels)"
   ]
  },
  {
   "cell_type": "code",
   "execution_count": 9,
   "id": "fe6a9faa",
   "metadata": {},
   "outputs": [
    {
     "data": {
      "text/html": [
       "<div>\n",
       "<style scoped>\n",
       "    .dataframe tbody tr th:only-of-type {\n",
       "        vertical-align: middle;\n",
       "    }\n",
       "\n",
       "    .dataframe tbody tr th {\n",
       "        vertical-align: top;\n",
       "    }\n",
       "\n",
       "    .dataframe thead th {\n",
       "        text-align: right;\n",
       "    }\n",
       "</style>\n",
       "<table border=\"1\" class=\"dataframe\">\n",
       "  <thead>\n",
       "    <tr style=\"text-align: right;\">\n",
       "      <th></th>\n",
       "      <th>feature</th>\n",
       "      <th>p_value</th>\n",
       "    </tr>\n",
       "  </thead>\n",
       "  <tbody>\n",
       "    <tr>\n",
       "      <th>8</th>\n",
       "      <td>ctx-rh-postcentral</td>\n",
       "      <td>0.001683</td>\n",
       "    </tr>\n",
       "    <tr>\n",
       "      <th>7</th>\n",
       "      <td>ctx-lh-postcentral</td>\n",
       "      <td>0.003268</td>\n",
       "    </tr>\n",
       "    <tr>\n",
       "      <th>5</th>\n",
       "      <td>right cerebellum white matter</td>\n",
       "      <td>0.010176</td>\n",
       "    </tr>\n",
       "    <tr>\n",
       "      <th>4</th>\n",
       "      <td>left hippocampus</td>\n",
       "      <td>0.020209</td>\n",
       "    </tr>\n",
       "    <tr>\n",
       "      <th>3</th>\n",
       "      <td>brain-stem</td>\n",
       "      <td>0.028090</td>\n",
       "    </tr>\n",
       "    <tr>\n",
       "      <th>2</th>\n",
       "      <td>left caudate</td>\n",
       "      <td>0.031763</td>\n",
       "    </tr>\n",
       "    <tr>\n",
       "      <th>6</th>\n",
       "      <td>right ventral DC</td>\n",
       "      <td>0.038110</td>\n",
       "    </tr>\n",
       "    <tr>\n",
       "      <th>1</th>\n",
       "      <td>left cerebellum white matter</td>\n",
       "      <td>0.041498</td>\n",
       "    </tr>\n",
       "    <tr>\n",
       "      <th>10</th>\n",
       "      <td>ctx-rh-supramarginal</td>\n",
       "      <td>0.042807</td>\n",
       "    </tr>\n",
       "    <tr>\n",
       "      <th>9</th>\n",
       "      <td>ctx-rh-precentral</td>\n",
       "      <td>0.045504</td>\n",
       "    </tr>\n",
       "    <tr>\n",
       "      <th>0</th>\n",
       "      <td>left cerebral cortex</td>\n",
       "      <td>0.049577</td>\n",
       "    </tr>\n",
       "  </tbody>\n",
       "</table>\n",
       "</div>"
      ],
      "text/plain": [
       "                          feature   p_value\n",
       "8              ctx-rh-postcentral  0.001683\n",
       "7              ctx-lh-postcentral  0.003268\n",
       "5   right cerebellum white matter  0.010176\n",
       "4                left hippocampus  0.020209\n",
       "3                      brain-stem  0.028090\n",
       "2                    left caudate  0.031763\n",
       "6                right ventral DC  0.038110\n",
       "1    left cerebellum white matter  0.041498\n",
       "10           ctx-rh-supramarginal  0.042807\n",
       "9               ctx-rh-precentral  0.045504\n",
       "0            left cerebral cortex  0.049577"
      ]
     },
     "execution_count": 9,
     "metadata": {},
     "output_type": "execute_result"
    }
   ],
   "source": [
    "synthseg_qc_conditions = StatisticalAnalysis(\n",
    "    synthseg.qc_df[synthseg_qc_with_labels[\"depress_dsm5\"] == 0],\n",
    "    synthseg.qc_df[synthseg_qc_with_labels[\"depress_dsm5\"] == 1],\n",
    "    ind=True,\n",
    ")\n",
    "synthseg_qc_sig_vols, synthseg_qc_all_stats = synthseg_qc_conditions.compare()\n",
    "\n",
    "synthseg_qc_sig_vols"
   ]
  },
  {
   "cell_type": "code",
   "execution_count": 33,
   "id": "8dbcf2b6",
   "metadata": {},
   "outputs": [
    {
     "name": "stdout",
     "output_type": "stream",
     "text": [
      "ROI: ctx-rh-postcentral\n",
      "Control: 8678\n",
      "Depressed: 8385\n",
      "\n",
      "ROI: ctx-lh-postcentral\n",
      "Control: 8479\n",
      "Depressed: 8214\n",
      "\n",
      "ROI: right cerebellum white matter\n",
      "Control: 13246\n",
      "Depressed: 12946\n",
      "\n",
      "ROI: left hippocampus\n",
      "Control: 3989\n",
      "Depressed: 3927\n",
      "\n",
      "ROI: brain-stem\n",
      "Control: 21573\n",
      "Depressed: 21244\n",
      "\n",
      "ROI: left caudate\n",
      "Control: 4319\n",
      "Depressed: 4246\n",
      "\n",
      "ROI: right ventral DC\n",
      "Control: 4221\n",
      "Depressed: 4157\n",
      "\n",
      "ROI: left cerebellum white matter\n",
      "Control: 13893\n",
      "Depressed: 13632\n",
      "\n",
      "ROI: ctx-rh-supramarginal\n",
      "Control: 9848\n",
      "Depressed: 9635\n",
      "\n",
      "ROI: ctx-rh-precentral\n",
      "Control: 10497\n",
      "Depressed: 10263\n",
      "\n",
      "ROI: left cerebral cortex\n",
      "Control: 301665\n",
      "Depressed: 297218\n",
      "\n"
     ]
    }
   ],
   "source": [
    "for f in synthseg_qc_sig_vols[\"feature\"]:\n",
    "    print(\"ROI:\", f)\n",
    "    print(\"Control:\", round(synthseg.qc_df[synthseg_qc_with_labels[\"depress_dsm5\"] == 0][f].mean()))\n",
    "    print(\"Depressed:\", round(synthseg.qc_df[synthseg_qc_with_labels[\"depress_dsm5\"] == 1][f].mean()))\n",
    "    print()"
   ]
  },
  {
   "attachments": {},
   "cell_type": "markdown",
   "id": "2b1f289a",
   "metadata": {},
   "source": [
    "## ABCD depressed vs control"
   ]
  },
  {
   "cell_type": "code",
   "execution_count": 14,
   "id": "16e4130c",
   "metadata": {},
   "outputs": [],
   "source": [
    "# Create overall df\n",
    "abcd_with_labels = abcd.df.join(labels)"
   ]
  },
  {
   "cell_type": "code",
   "execution_count": 15,
   "id": "f03c5cf3",
   "metadata": {},
   "outputs": [
    {
     "data": {
      "text/html": [
       "<div>\n",
       "<style scoped>\n",
       "    .dataframe tbody tr th:only-of-type {\n",
       "        vertical-align: middle;\n",
       "    }\n",
       "\n",
       "    .dataframe tbody tr th {\n",
       "        vertical-align: top;\n",
       "    }\n",
       "\n",
       "    .dataframe thead th {\n",
       "        text-align: right;\n",
       "    }\n",
       "</style>\n",
       "<table border=\"1\" class=\"dataframe\">\n",
       "  <thead>\n",
       "    <tr style=\"text-align: right;\">\n",
       "      <th></th>\n",
       "      <th>feature</th>\n",
       "      <th>p_value</th>\n",
       "    </tr>\n",
       "  </thead>\n",
       "  <tbody>\n",
       "    <tr>\n",
       "      <th>12</th>\n",
       "      <td>ctx-rh-postcentral</td>\n",
       "      <td>0.000346</td>\n",
       "    </tr>\n",
       "    <tr>\n",
       "      <th>6</th>\n",
       "      <td>ctx-lh-superiorparietal</td>\n",
       "      <td>0.000770</td>\n",
       "    </tr>\n",
       "    <tr>\n",
       "      <th>5</th>\n",
       "      <td>ctx-lh-postcentral</td>\n",
       "      <td>0.001783</td>\n",
       "    </tr>\n",
       "    <tr>\n",
       "      <th>0</th>\n",
       "      <td>ctx-lh-inferiorparietal</td>\n",
       "      <td>0.001919</td>\n",
       "    </tr>\n",
       "    <tr>\n",
       "      <th>16</th>\n",
       "      <td>ctx-rh-frontalpole</td>\n",
       "      <td>0.002564</td>\n",
       "    </tr>\n",
       "    <tr>\n",
       "      <th>2</th>\n",
       "      <td>ctx-lh-parahippocampal</td>\n",
       "      <td>0.002809</td>\n",
       "    </tr>\n",
       "    <tr>\n",
       "      <th>15</th>\n",
       "      <td>ctx-rh-supramarginal</td>\n",
       "      <td>0.002826</td>\n",
       "    </tr>\n",
       "    <tr>\n",
       "      <th>11</th>\n",
       "      <td>ctx-rh-paracentral</td>\n",
       "      <td>0.005236</td>\n",
       "    </tr>\n",
       "    <tr>\n",
       "      <th>13</th>\n",
       "      <td>ctx-rh-precentral</td>\n",
       "      <td>0.006550</td>\n",
       "    </tr>\n",
       "    <tr>\n",
       "      <th>8</th>\n",
       "      <td>ctx-rh-caudalanteriorcingulate</td>\n",
       "      <td>0.012916</td>\n",
       "    </tr>\n",
       "    <tr>\n",
       "      <th>7</th>\n",
       "      <td>ctx-lh-supramarginal</td>\n",
       "      <td>0.014291</td>\n",
       "    </tr>\n",
       "    <tr>\n",
       "      <th>10</th>\n",
       "      <td>ctx-rh-parahippocampal</td>\n",
       "      <td>0.015174</td>\n",
       "    </tr>\n",
       "    <tr>\n",
       "      <th>14</th>\n",
       "      <td>ctx-rh-superiorparietal</td>\n",
       "      <td>0.015851</td>\n",
       "    </tr>\n",
       "    <tr>\n",
       "      <th>20</th>\n",
       "      <td>right accumbens area</td>\n",
       "      <td>0.027423</td>\n",
       "    </tr>\n",
       "    <tr>\n",
       "      <th>1</th>\n",
       "      <td>ctx-lh-middletemporal</td>\n",
       "      <td>0.030293</td>\n",
       "    </tr>\n",
       "    <tr>\n",
       "      <th>19</th>\n",
       "      <td>csf</td>\n",
       "      <td>0.031092</td>\n",
       "    </tr>\n",
       "    <tr>\n",
       "      <th>18</th>\n",
       "      <td>brain-stem</td>\n",
       "      <td>0.032033</td>\n",
       "    </tr>\n",
       "    <tr>\n",
       "      <th>9</th>\n",
       "      <td>ctx-rh-middletemporal</td>\n",
       "      <td>0.033627</td>\n",
       "    </tr>\n",
       "    <tr>\n",
       "      <th>3</th>\n",
       "      <td>ctx-lh-paracentral</td>\n",
       "      <td>0.041849</td>\n",
       "    </tr>\n",
       "    <tr>\n",
       "      <th>4</th>\n",
       "      <td>ctx-lh-parsopercularis</td>\n",
       "      <td>0.046664</td>\n",
       "    </tr>\n",
       "    <tr>\n",
       "      <th>17</th>\n",
       "      <td>left caudate</td>\n",
       "      <td>0.049902</td>\n",
       "    </tr>\n",
       "  </tbody>\n",
       "</table>\n",
       "</div>"
      ],
      "text/plain": [
       "                           feature   p_value\n",
       "12              ctx-rh-postcentral  0.000346\n",
       "6          ctx-lh-superiorparietal  0.000770\n",
       "5               ctx-lh-postcentral  0.001783\n",
       "0          ctx-lh-inferiorparietal  0.001919\n",
       "16              ctx-rh-frontalpole  0.002564\n",
       "2           ctx-lh-parahippocampal  0.002809\n",
       "15            ctx-rh-supramarginal  0.002826\n",
       "11              ctx-rh-paracentral  0.005236\n",
       "13               ctx-rh-precentral  0.006550\n",
       "8   ctx-rh-caudalanteriorcingulate  0.012916\n",
       "7             ctx-lh-supramarginal  0.014291\n",
       "10          ctx-rh-parahippocampal  0.015174\n",
       "14         ctx-rh-superiorparietal  0.015851\n",
       "20            right accumbens area  0.027423\n",
       "1            ctx-lh-middletemporal  0.030293\n",
       "19                             csf  0.031092\n",
       "18                      brain-stem  0.032033\n",
       "9            ctx-rh-middletemporal  0.033627\n",
       "3               ctx-lh-paracentral  0.041849\n",
       "4           ctx-lh-parsopercularis  0.046664\n",
       "17                    left caudate  0.049902"
      ]
     },
     "execution_count": 15,
     "metadata": {},
     "output_type": "execute_result"
    }
   ],
   "source": [
    "abcd_conditions = StatisticalAnalysis(\n",
    "    abcd.df[abcd_with_labels[\"depress_dsm5\"] == 0],\n",
    "    abcd.df[abcd_with_labels[\"depress_dsm5\"] == 1],\n",
    "    ind=True,\n",
    ")\n",
    "abcd_sig_vols, abcd_all_stats = abcd_conditions.compare()\n",
    "\n",
    "abcd_sig_vols"
   ]
  }
 ],
 "metadata": {
  "kernelspec": {
   "display_name": "Python 3 (ipykernel)",
   "language": "python",
   "name": "python3"
  },
  "language_info": {
   "codemirror_mode": {
    "name": "ipython",
    "version": 3
   },
   "file_extension": ".py",
   "mimetype": "text/x-python",
   "name": "python",
   "nbconvert_exporter": "python",
   "pygments_lexer": "ipython3",
   "version": "3.9.2"
  }
 },
 "nbformat": 4,
 "nbformat_minor": 5
}
