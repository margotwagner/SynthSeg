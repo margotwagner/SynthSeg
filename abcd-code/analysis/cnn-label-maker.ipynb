{
 "cells": [
  {
   "cell_type": "code",
   "execution_count": 2,
   "metadata": {},
   "outputs": [],
   "source": [
    "from src.Labels import Labels\n",
    "from src.SynthSeg import SynthSeg"
   ]
  },
  {
   "cell_type": "markdown",
   "metadata": {},
   "source": [
    "Get labels associated with a disorder"
   ]
  },
  {
   "cell_type": "code",
   "execution_count": 3,
   "metadata": {},
   "outputs": [],
   "source": [
    "# Get dataframes for each disorder\n",
    "labels = Labels(instrument=\"cbcl\", disorder_type=\"dsm\")\n",
    "adhd = labels.adhd_dsm_df"
   ]
  },
  {
   "cell_type": "markdown",
   "metadata": {},
   "source": [
    "Get only the subjects that passed the QC check"
   ]
  },
  {
   "cell_type": "code",
   "execution_count": 5,
   "metadata": {},
   "outputs": [
    {
     "data": {
      "text/plain": [
       "subject\n",
       "NDARINVW3GNFYF3    0\n",
       "NDARINVW49LW8G9    0\n",
       "NDARINVW5F6E0EE    1\n",
       "NDARINVW5LV1C4M    0\n",
       "NDARINVWE1DE80Z    0\n",
       "                  ..\n",
       "NDARINV155U91DU    1\n",
       "NDARINV19GEFHUC    0\n",
       "NDARINV1AFNKM8M    1\n",
       "NDARINV1AKMLL9A    0\n",
       "NDARINV1AURDG78    0\n",
       "Name: adhd_dsm5, Length: 1422, dtype: int64"
      ]
     },
     "execution_count": 5,
     "metadata": {},
     "output_type": "execute_result"
    }
   ],
   "source": [
    "# get subjects with MRIs that passed QC\n",
    "synthseg = SynthSeg(\n",
    "        subjects=adhd.index,\n",
    "        run_qc=True,\n",
    "        run_qc_min_score=0.65,\n",
    "        run_qc_max_failed_regions=1,\n",
    "    )\n",
    "\n",
    "# merge labels with MRIs\n",
    "synthseg_with_labels = synthseg.qc_df.join(adhd)\n",
    "\n",
    "# This is your output!! Save it somewhere!\n",
    "synthseg_with_labels[adhd.name]"
   ]
  },
  {
   "cell_type": "markdown",
   "metadata": {},
   "source": [
    "Repeat this and save for all the disorders..."
   ]
  },
  {
   "cell_type": "code",
   "execution_count": 9,
   "metadata": {},
   "outputs": [],
   "source": [
    "# 6 disorders in DSM questionnaire\n",
    "labels = Labels(instrument=\"cbcl\", disorder_type=\"dsm\")\n",
    "adhd = labels.adhd_dsm_df\n",
    "anx = labels.anx_dsm_df\n",
    "conduct = labels.conduct_dsm_df\n",
    "depr = labels.depr_dsm_df\n",
    "opposit = labels.opposit_dsm_df\n",
    "somatic = labels.somatic_dsm_df"
   ]
  },
  {
   "cell_type": "code",
   "execution_count": 10,
   "metadata": {},
   "outputs": [],
   "source": [
    "# 8 disorders in DSM questionnaire\n",
    "labels = Labels(instrument=\"cbcl\", disorder_type=\"aseba\")\n",
    "anxdep = labels.anxdep_aseba_df\n",
    "withdep = labels.withdep_aseba_df\n",
    "somatic = labels.somatic_aseba_df\n",
    "social = labels.social_aseba_df\n",
    "thought = labels.thought_aseba_df\n",
    "attent = labels.attent_aseba_df\n",
    "rulebreak = labels.rulebreak_aseba_df\n",
    "aggro = labels.aggro_aseba_df"
   ]
  },
  {
   "cell_type": "code",
   "execution_count": null,
   "metadata": {},
   "outputs": [],
   "source": []
  }
 ],
 "metadata": {
  "kernelspec": {
   "display_name": "Python 3",
   "language": "python",
   "name": "python3"
  },
  "language_info": {
   "codemirror_mode": {
    "name": "ipython",
    "version": 3
   },
   "file_extension": ".py",
   "mimetype": "text/x-python",
   "name": "python",
   "nbconvert_exporter": "python",
   "pygments_lexer": "ipython3",
   "version": "3.9.2"
  }
 },
 "nbformat": 4,
 "nbformat_minor": 2
}
