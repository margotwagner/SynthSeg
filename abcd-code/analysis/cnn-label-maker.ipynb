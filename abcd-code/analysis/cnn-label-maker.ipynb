{
 "cells": [
  {
   "cell_type": "code",
   "execution_count": 1,
   "metadata": {},
   "outputs": [],
   "source": [
    "from src.Labels import Labels\n",
    "from src.SynthSeg import SynthSeg"
   ]
  },
  {
   "cell_type": "markdown",
   "metadata": {},
   "source": [
    "Get labels associated with a disorder"
   ]
  },
  {
   "cell_type": "code",
   "execution_count": 2,
   "metadata": {},
   "outputs": [],
   "source": [
    "# Get dataframes for each disorder\n",
    "labels = Labels(instrument=\"cbcl\", disorder_type=\"dsm\")\n",
    "adhd = labels.adhd_dsm_df"
   ]
  },
  {
   "cell_type": "markdown",
   "metadata": {},
   "source": [
    "Get only the subjects that passed the QC check"
   ]
  },
  {
   "cell_type": "code",
   "execution_count": 4,
   "metadata": {},
   "outputs": [
    {
     "name": "stdout",
     "output_type": "stream",
     "text": [
      "ADHD\n",
      "----------\n",
      "# control: \t\t 1156\n",
      "# disorder: \t\t 266\n"
     ]
    }
   ],
   "source": [
    "synthseg = SynthSeg(\n",
    "        subjects=adhd.index,\n",
    "        run_qc=True,\n",
    "        run_qc_min_score=0.65,\n",
    "        run_qc_max_failed_regions=1,\n",
    "    )\n",
    "\n",
    "synthseg_with_labels = synthseg.qc_df.join(adhd)\n",
    "\n",
    "control_df = synthseg.qc_df[synthseg_with_labels[adhd.name] == 0]\n",
    "disorder_df = synthseg.qc_df[synthseg_with_labels[adhd.name] == 1]\n",
    "\n",
    "print(adhd.name.split(\"_\")[0].upper())\n",
    "print(\"-\" * 10)\n",
    "print(\"# control: \\t\\t\", control_df.shape[0])\n",
    "print(\"# disorder: \\t\\t\", disorder_df.shape[0])"
   ]
  },
  {
   "cell_type": "code",
   "execution_count": 7,
   "metadata": {},
   "outputs": [
    {
     "data": {
      "text/plain": [
       "Index(['NDARINVW3GNFYF3', 'NDARINVW49LW8G9', 'NDARINVW5LV1C4M',\n",
       "       'NDARINVWE1DE80Z', 'NDARINVWNKZ5Z4L', 'NDARINVWVM2TW33',\n",
       "       'NDARINVWVVCYC6W', 'NDARINVWX3C6A3L', 'NDARINVWX5PDY2A',\n",
       "       'NDARINVWZ40YVLE',\n",
       "       ...\n",
       "       'NDARINV0Y9GR364', 'NDARINV0YE7L9KU', 'NDARINV0ZHHWCMZ',\n",
       "       'NDARINV1147ELD2', 'NDARINV114VT9DX', 'NDARINV119ECA10',\n",
       "       'NDARINV14PNN5H9', 'NDARINV19GEFHUC', 'NDARINV1AKMLL9A',\n",
       "       'NDARINV1AURDG78'],\n",
       "      dtype='object', name='subject', length=1156)"
      ]
     },
     "execution_count": 7,
     "metadata": {},
     "output_type": "execute_result"
    }
   ],
   "source": [
    "# These subjects should have '0' labels\n",
    "control_df.index"
   ]
  },
  {
   "cell_type": "code",
   "execution_count": 8,
   "metadata": {},
   "outputs": [
    {
     "data": {
      "text/plain": [
       "Index(['NDARINVW5F6E0EE', 'NDARINVWM1W0UPC', 'NDARINVWY6VZCVE',\n",
       "       'NDARINVX225RA0Y', 'NDARINVX5L1CX2N', 'NDARINVXUFCDBP0',\n",
       "       'NDARINVXXR7E90Z', 'NDARINVY04AT16M', 'NDARINVY1D0KCY0',\n",
       "       'NDARINVY5GHPDX4',\n",
       "       ...\n",
       "       'NDARINV2P5R504F', 'NDARINV2VY7YYNW', 'NDARINV32GN03AZ',\n",
       "       'NDARINV32P8UGE7', 'NDARINV0P4FUMM3', 'NDARINV0PKCP1P3',\n",
       "       'NDARINV0VXEC29A', 'NDARINV11V7NWED', 'NDARINV155U91DU',\n",
       "       'NDARINV1AFNKM8M'],\n",
       "      dtype='object', name='subject', length=266)"
      ]
     },
     "execution_count": 8,
     "metadata": {},
     "output_type": "execute_result"
    }
   ],
   "source": [
    "# These subjects should have '1' labels \n",
    "disorder_df.index"
   ]
  },
  {
   "cell_type": "markdown",
   "metadata": {},
   "source": [
    "Combine them and save it somewhere. In the end you should have a .csv file with the subjects and their associated labels. The number of subjects should be control + disorder."
   ]
  },
  {
   "cell_type": "markdown",
   "metadata": {},
   "source": [
    "Repeat this and save for all the disorders..."
   ]
  },
  {
   "cell_type": "code",
   "execution_count": 9,
   "metadata": {},
   "outputs": [],
   "source": [
    "# 6 disorders in DSM questionnaire\n",
    "labels = Labels(instrument=\"cbcl\", disorder_type=\"dsm\")\n",
    "adhd = labels.adhd_dsm_df\n",
    "anx = labels.anx_dsm_df\n",
    "conduct = labels.conduct_dsm_df\n",
    "depr = labels.depr_dsm_df\n",
    "opposit = labels.opposit_dsm_df\n",
    "somatic = labels.somatic_dsm_df"
   ]
  },
  {
   "cell_type": "code",
   "execution_count": 10,
   "metadata": {},
   "outputs": [],
   "source": [
    "# 8 disorders in DSM questionnaire\n",
    "labels = Labels(instrument=\"cbcl\", disorder_type=\"aseba\")\n",
    "anxdep = labels.anxdep_aseba_df\n",
    "withdep = labels.withdep_aseba_df\n",
    "somatic = labels.somatic_aseba_df\n",
    "social = labels.social_aseba_df\n",
    "thought = labels.thought_aseba_df\n",
    "attent = labels.attent_aseba_df\n",
    "rulebreak = labels.rulebreak_aseba_df\n",
    "aggro = labels.aggro_aseba_df"
   ]
  },
  {
   "cell_type": "code",
   "execution_count": null,
   "metadata": {},
   "outputs": [],
   "source": []
  }
 ],
 "metadata": {
  "kernelspec": {
   "display_name": "Python 3",
   "language": "python",
   "name": "python3"
  },
  "language_info": {
   "codemirror_mode": {
    "name": "ipython",
    "version": 3
   },
   "file_extension": ".py",
   "mimetype": "text/x-python",
   "name": "python",
   "nbconvert_exporter": "python",
   "pygments_lexer": "ipython3",
   "version": "3.9.2"
  }
 },
 "nbformat": 4,
 "nbformat_minor": 2
}
