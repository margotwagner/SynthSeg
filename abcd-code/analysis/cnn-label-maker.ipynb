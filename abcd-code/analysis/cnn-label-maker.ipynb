{
 "cells": [
  {
   "cell_type": "code",
   "execution_count": 5,
   "metadata": {},
   "outputs": [],
   "source": [
    "from src.Labels import Labels\n",
    "from src.SynthSeg import SynthSeg"
   ]
  },
  {
   "cell_type": "markdown",
   "metadata": {},
   "source": [
    "# DSM"
   ]
  },
  {
   "cell_type": "code",
   "execution_count": 2,
   "metadata": {},
   "outputs": [],
   "source": [
    "# Get dataframes for each disorder\n",
    "labels = Labels(instrument=\"cbcl\", disorder_type=\"dsm\")\n",
    "adhd = labels.adhd_dsm_df\n",
    "anx = labels.anx_dsm_df\n",
    "conduct = labels.conduct_dsm_df\n",
    "depr = labels.depr_dsm_df\n",
    "opposit = labels.opposit_dsm_df\n",
    "somatic = labels.somatic_dsm_df"
   ]
  },
  {
   "cell_type": "code",
   "execution_count": null,
   "metadata": {},
   "outputs": [],
   "source": [
    "synthseg = SynthSeg(\n",
    "        subjects=adhd.index,\n",
    "        run_qc=True,\n",
    "        run_qc_min_score=0.65,\n",
    "        run_qc_max_failed_regions=1,\n",
    "    )"
   ]
  },
  {
   "cell_type": "code",
   "execution_count": null,
   "metadata": {},
   "outputs": [],
   "source": [
    "synthseg = SynthSeg(\n",
    "        subjects=labels_df.index,\n",
    "        run_qc=run_qc,\n",
    "        run_qc_min_score=0.65,\n",
    "        run_qc_max_failed_regions=1,\n",
    "    )\n",
    "    if run_qc:\n",
    "        synthseg_df = synthseg.qc_df\n",
    "    else:\n",
    "        synthseg_df = synthseg.df\n",
    "\n",
    "    synthseg_with_labels = synthseg_df.join(labels_df)\n",
    "\n",
    "    control_df = synthseg_df[synthseg_with_labels[labels_df.name] == 0]\n",
    "    disorder_df = synthseg_df[synthseg_with_labels[labels_df.name] == 1]\n",
    "\n",
    "    print(labels_df.name.split(\"_\")[0].upper())\n",
    "    print(\"-\" * 10)\n",
    "    print(\"# control: \\t\\t\", control_df.shape[0])\n",
    "    print(\"# disorder: \\t\\t\", disorder_df.shape[0])"
   ]
  },
  {
   "cell_type": "code",
   "execution_count": 4,
   "metadata": {},
   "outputs": [
    {
     "data": {
      "text/plain": [
       "NDARINV08FUB58A    0\n",
       "NDARINV04GAB2AA    0\n",
       "NDARINV0BAVEL0T    0\n",
       "NDARINV09AEBLZH    0\n",
       "NDARINV0GZM9UZJ    0\n",
       "                  ..\n",
       "NDARINVVJLM7PBM    1\n",
       "NDARINVV4ZYD9PL    1\n",
       "NDARINVW2RNZLMD    1\n",
       "NDARINVXWKTXRJG    1\n",
       "NDARINVYCRTDT3X    1\n",
       "Name: depress_dsm5, Length: 1851, dtype: int64"
      ]
     },
     "execution_count": 4,
     "metadata": {},
     "output_type": "execute_result"
    }
   ],
   "source": [
    "depr"
   ]
  },
  {
   "cell_type": "code",
   "execution_count": null,
   "metadata": {},
   "outputs": [],
   "source": []
  }
 ],
 "metadata": {
  "kernelspec": {
   "display_name": "Python 3",
   "language": "python",
   "name": "python3"
  },
  "language_info": {
   "codemirror_mode": {
    "name": "ipython",
    "version": 3
   },
   "file_extension": ".py",
   "mimetype": "text/x-python",
   "name": "python",
   "nbconvert_exporter": "python",
   "pygments_lexer": "ipython3",
   "version": "3.9.2"
  }
 },
 "nbformat": 4,
 "nbformat_minor": 2
}
