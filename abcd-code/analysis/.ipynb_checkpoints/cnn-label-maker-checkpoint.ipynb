{
 "cells": [
  {
   "cell_type": "code",
   "execution_count": 1,
   "metadata": {},
   "outputs": [],
   "source": [
    "from src.Labels import Labels\n",
    "from src.SynthSeg import SynthSeg\n",
    "import pandas as pd"
   ]
  },
  {
   "cell_type": "code",
   "execution_count": 2,
   "metadata": {},
   "outputs": [],
   "source": [
    "# Use the real path!\n",
    "\n",
    "\n",
    "# PATH = \"/nadata/cnl/abcd/data/labels/cnn\"\n",
    "\n",
    "PATH = \"/nadata/cnl/home/wli/wl/SynthSeg/abcd-code/analysis\""
   ]
  },
  {
   "cell_type": "code",
   "execution_count": 3,
   "metadata": {},
   "outputs": [],
   "source": [
    "def balance_classes(series):\n",
    "    class_0 = (series == 0).sum()\n",
    "    class_1 = (series == 1).sum()\n",
    "    \n",
    "    min_count = min(class_0, class_1)\n",
    "    \n",
    "    sampled_class_0 = series[series == 0].sample(n=min_count, random_state=42)\n",
    "    sampled_class_1 = series[series == 1].sample(n=min_count, random_state=42)\n",
    "    \n",
    "    balanced_series = pd.concat([sampled_class_0, sampled_class_1])\n",
    "    return balanced_series"
   ]
  },
  {
   "cell_type": "markdown",
   "metadata": {},
   "source": [
    "Get labels associated with a disorder"
   ]
  },
  {
   "cell_type": "code",
   "execution_count": 4,
   "metadata": {},
   "outputs": [],
   "source": [
    "# # Get dataframes for each disorder\n",
    "# labels = Labels(instrument=\"cbcl\", disorder_type=\"dsm\")\n",
    "# adhd = labels.adhd_dsm_df"
   ]
  },
  {
   "cell_type": "markdown",
   "metadata": {},
   "source": [
    "Get only the subjects that passed the QC check"
   ]
  },
  {
   "cell_type": "code",
   "execution_count": 5,
   "metadata": {},
   "outputs": [],
   "source": [
    "# # get subjects with MRIs that passed QC\n",
    "# synthseg = SynthSeg(\n",
    "#         subjects=adhd.index,\n",
    "#         run_qc=True,\n",
    "#         run_qc_min_score=0.65,\n",
    "#         run_qc_max_failed_regions=1,\n",
    "#     )\n",
    "\n",
    "# # merge labels with MRIs\n",
    "# synthseg_with_labels = synthseg.qc_df.join(adhd)\n",
    "\n",
    "# # This is your output!! Save it somewhere!\n",
    "# passed_qc = synthseg_with_labels[adhd.name]\n",
    "\n",
    "# balanced_labels = balance_classes(passed_qc)\n",
    "# balanced_labels.to_csv('labels.csv')"
   ]
  },
  {
   "cell_type": "markdown",
   "metadata": {},
   "source": [
    "Repeat this and save for all the disorders..."
   ]
  },
  {
   "cell_type": "code",
   "execution_count": 6,
   "metadata": {},
   "outputs": [],
   "source": [
    "# 6 disorders in DSM questionnaire\n",
    "labels = Labels(instrument=\"cbcl\", disorder_type=\"dsm\")\n",
    "adhd = labels.adhd_dsm_df\n",
    "anx = labels.anx_dsm_df\n",
    "conduct = labels.conduct_dsm_df\n",
    "depr = labels.depr_dsm_df\n",
    "opposit = labels.opposit_dsm_df\n",
    "somatic = labels.somatic_dsm_df"
   ]
  },
  {
   "cell_type": "code",
   "execution_count": 7,
   "metadata": {},
   "outputs": [],
   "source": [
    "# 8 disorders in DSM questionnaire\n",
    "labels = Labels(instrument=\"cbcl\", disorder_type=\"aseba\")\n",
    "anxdep = labels.anxdep_aseba_df\n",
    "withdep = labels.withdep_aseba_df\n",
    "somatic = labels.somatic_aseba_df\n",
    "social = labels.social_aseba_df\n",
    "thought = labels.thought_aseba_df\n",
    "attent = labels.attent_aseba_df\n",
    "rulebreak = labels.rulebreak_aseba_df\n",
    "aggro = labels.aggro_aseba_df"
   ]
  },
  {
   "cell_type": "code",
   "execution_count": 8,
   "metadata": {},
   "outputs": [],
   "source": [
    "to_save = {\n",
    "    \"adhd\": adhd,\n",
    "    \"anx\": anx,\n",
    "    \"conduct\": conduct,\n",
    "    \"depr\": depr,\n",
    "    \"opposit\": opposit,\n",
    "    \"somatic\": somatic,\n",
    "    \"anxdep\": anxdep,\n",
    "    \"withdep\": withdep,\n",
    "    \"somatic\": somatic,\n",
    "    \"social\": social,\n",
    "    \"thought\": thought,\n",
    "    \"attent\": attent,\n",
    "    \"rulebreak\": rulebreak,\n",
    "    \"aggro\": aggro,\n",
    "}"
   ]
  },
  {
   "cell_type": "code",
   "execution_count": 9,
   "metadata": {},
   "outputs": [],
   "source": [
    "def save_labels(name):\n",
    "    synthseg = SynthSeg(\n",
    "        subjects=to_save[name].index,\n",
    "        run_qc=True,\n",
    "        run_qc_min_score=0.65,\n",
    "        run_qc_max_failed_regions=1,\n",
    "    )\n",
    "\n",
    "    # merge labels with MRIs\n",
    "\n",
    "    synthseg_with_labels = synthseg.qc_df.join(to_save[name])\n",
    "\n",
    "    passed_qc = synthseg_with_labels[to_save[name].name]\n",
    "\n",
    "    balanced_labels = balance_classes(passed_qc)\n",
    "    balanced_labels.to_csv(f'{PATH}/{name}_labels.csv')\n",
    "\n",
    "    print(f\"Saved {name} labels at {PATH}/{name}_labels.csv\")\n"
   ]
  },
  {
   "cell_type": "code",
   "execution_count": 10,
   "metadata": {},
   "outputs": [
    {
     "name": "stdout",
     "output_type": "stream",
     "text": [
      "Saved adhd labels at /nadata/cnl/home/wli/wl/SynthSeg/abcd-code/analysis/adhd_labels.csv\n",
      "Saved anx labels at /nadata/cnl/home/wli/wl/SynthSeg/abcd-code/analysis/anx_labels.csv\n",
      "Saved conduct labels at /nadata/cnl/home/wli/wl/SynthSeg/abcd-code/analysis/conduct_labels.csv\n",
      "Saved depr labels at /nadata/cnl/home/wli/wl/SynthSeg/abcd-code/analysis/depr_labels.csv\n",
      "Saved opposit labels at /nadata/cnl/home/wli/wl/SynthSeg/abcd-code/analysis/opposit_labels.csv\n",
      "Saved somatic labels at /nadata/cnl/home/wli/wl/SynthSeg/abcd-code/analysis/somatic_labels.csv\n",
      "Saved anxdep labels at /nadata/cnl/home/wli/wl/SynthSeg/abcd-code/analysis/anxdep_labels.csv\n",
      "Saved withdep labels at /nadata/cnl/home/wli/wl/SynthSeg/abcd-code/analysis/withdep_labels.csv\n",
      "Saved social labels at /nadata/cnl/home/wli/wl/SynthSeg/abcd-code/analysis/social_labels.csv\n",
      "Saved thought labels at /nadata/cnl/home/wli/wl/SynthSeg/abcd-code/analysis/thought_labels.csv\n",
      "Saved attent labels at /nadata/cnl/home/wli/wl/SynthSeg/abcd-code/analysis/attent_labels.csv\n",
      "Saved rulebreak labels at /nadata/cnl/home/wli/wl/SynthSeg/abcd-code/analysis/rulebreak_labels.csv\n",
      "Saved aggro labels at /nadata/cnl/home/wli/wl/SynthSeg/abcd-code/analysis/aggro_labels.csv\n"
     ]
    }
   ],
   "source": [
    "for name in to_save:\n",
    "    save_labels(name)"
   ]
  },
  {
   "cell_type": "code",
   "execution_count": 11,
   "metadata": {},
   "outputs": [
    {
     "name": "stdout",
     "output_type": "stream",
     "text": [
      "All .csv files deleted.\n"
     ]
    }
   ],
   "source": [
    "# import glob\n",
    "# import os\n",
    "\n",
    "# csv_files = glob.glob(\"*.csv\")\n",
    "\n",
    "# for csv_file in csv_files:\n",
    "#     os.remove(csv_file)\n",
    "\n",
    "# print(\"All .csv files deleted.\")"
   ]
  },
  {
   "cell_type": "code",
   "execution_count": null,
   "metadata": {},
   "outputs": [],
   "source": []
  }
 ],
 "metadata": {
  "kernelspec": {
   "display_name": "Python 3 (ipykernel)",
   "language": "python",
   "name": "python3"
  },
  "language_info": {
   "codemirror_mode": {
    "name": "ipython",
    "version": 3
   },
   "file_extension": ".py",
   "mimetype": "text/x-python",
   "name": "python",
   "nbconvert_exporter": "python",
   "pygments_lexer": "ipython3",
   "version": "3.9.12"
  }
 },
 "nbformat": 4,
 "nbformat_minor": 2
}
