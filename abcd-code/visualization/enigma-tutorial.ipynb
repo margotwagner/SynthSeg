{
 "cells": [
  {
   "cell_type": "code",
   "execution_count": 1,
   "metadata": {},
   "outputs": [],
   "source": [
    "from enigmatoolbox.datasets import load_summary_stats\n",
    "\n",
    "# Load summary statistics for ENIGMA-ADHD\n",
    "sum_stats = load_summary_stats('adhd')\n",
    "\n",
    "# Get case-control cortical thickness and surface area tables\n",
    "CT = sum_stats['CortThick_case_vs_controls_adult']\n",
    "SA = sum_stats['CortSurf_case_vs_controls_adult']\n",
    "\n",
    "# Extract Cohen's d values\n",
    "CT_d = CT['d_icv']\n",
    "SA_d = SA['d_icv']\n",
    "\n",
    "# numpy < 1.19\n",
    "# pandas 0.17"
   ]
  },
  {
   "cell_type": "code",
   "execution_count": 2,
   "metadata": {},
   "outputs": [],
   "source": [
    "from enigmatoolbox.utils.parcellation import parcel_to_surface\n",
    "from enigmatoolbox.plotting.surface_plotting import plot_cortical\n",
    "\n",
    "# Map parcellated data to the surface\n",
    "CT_d_fsa5 = parcel_to_surface(CT_d, 'aparc_fsa5')"
   ]
  },
  {
   "cell_type": "code",
   "execution_count": 3,
   "metadata": {},
   "outputs": [
    {
     "ename": "",
     "evalue": "",
     "output_type": "error",
     "traceback": [
      "\u001b[1;31mCannot execute code, session has been disposed. Please try restarting the Kernel."
     ]
    },
    {
     "ename": "",
     "evalue": "",
     "output_type": "error",
     "traceback": [
      "\u001b[1;31mThe Kernel crashed while executing code in the the current cell or a previous cell. Please review the code in the cell(s) to identify a possible cause of the failure. Click <a href='https://aka.ms/vscodeJupyterKernelCrash'>here</a> for more info. View Jupyter <a href='command:jupyter.viewOutput'>log</a> for further details."
     ]
    }
   ],
   "source": [
    "# Project the results on the surface brain\n",
    "plot_cortical(array_name=CT_d_fsa5, surface_name=\"fsa5\", size=(800, 400),\n",
    "              cmap='RdBu_r', color_bar=True, color_range=(-0.5, 0.5))"
   ]
  },
  {
   "cell_type": "code",
   "execution_count": 3,
   "metadata": {},
   "outputs": [],
   "source": [
    "# Z-Score"
   ]
  },
  {
   "attachments": {},
   "cell_type": "markdown",
   "metadata": {},
   "source": [
    "- Load dataset\n",
    "- Z-score data (cortex and non-cortex)"
   ]
  },
  {
   "attachments": {},
   "cell_type": "markdown",
   "metadata": {},
   "source": [
    "data locations: \n",
    "\n",
    "/cnl/abcd/data/imaging/smri/interim/synthseg/baseline/\n",
    "\n",
    "segmentations --> output segmentations\n",
    "\n",
    "vols\n",
    "vol.csv\n",
    "volumes of segmented regions (in mm^3)\n",
    "\n",
    "p-values --> between healthy/depr\n"
   ]
  },
  {
   "cell_type": "code",
   "execution_count": 6,
   "metadata": {},
   "outputs": [
    {
     "ename": "",
     "evalue": "",
     "output_type": "error",
     "traceback": [
      "\u001b[1;31mCannot execute code, session has been disposed. Please try restarting the Kernel."
     ]
    },
    {
     "ename": "",
     "evalue": "",
     "output_type": "error",
     "traceback": [
      "\u001b[1;31mThe Kernel crashed while executing code in the the current cell or a previous cell. Please review the code in the cell(s) to identify a possible cause of the failure. Click <a href='https://aka.ms/vscodeJupyterKernelCrash'>here</a> for more info. View Jupyter <a href='command:jupyter.viewOutput'>log</a> for further details."
     ]
    }
   ],
   "source": []
  },
  {
   "cell_type": "code",
   "execution_count": null,
   "metadata": {},
   "outputs": [],
   "source": []
  }
 ],
 "metadata": {
  "kernelspec": {
   "display_name": "mri_viz",
   "language": "python",
   "name": "python3"
  },
  "language_info": {
   "codemirror_mode": {
    "name": "ipython",
    "version": 3
   },
   "file_extension": ".py",
   "mimetype": "text/x-python",
   "name": "python",
   "nbconvert_exporter": "python",
   "pygments_lexer": "ipython3",
   "version": "3.8.16"
  },
  "orig_nbformat": 4
 },
 "nbformat": 4,
 "nbformat_minor": 2
}
